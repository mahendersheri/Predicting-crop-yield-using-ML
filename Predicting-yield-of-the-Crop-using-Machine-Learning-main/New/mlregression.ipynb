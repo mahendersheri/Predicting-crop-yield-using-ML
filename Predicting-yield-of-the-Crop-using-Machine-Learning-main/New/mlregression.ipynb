{
 "cells": [
  {
   "cell_type": "code",
   "execution_count": 1,
   "metadata": {},
   "outputs": [],
   "source": [
    "# Multiple Linear Regression\n",
    "\n",
    "# Importing the libraries\n",
    "import numpy as np\n",
    "import matplotlib.pyplot as plt\n",
    "import pandas as pd"
   ]
  },
  {
   "cell_type": "code",
   "execution_count": 6,
   "metadata": {},
   "outputs": [],
   "source": [
    "# Importing the dataset\n",
    "df = pd.read_csv('D:/Data Science/Data-Science-main/pmf.csv')"
   ]
  },
  {
   "cell_type": "code",
   "execution_count": 7,
   "metadata": {},
   "outputs": [
    {
     "data": {
      "text/html": [
       "<div>\n",
       "<style scoped>\n",
       "    .dataframe tbody tr th:only-of-type {\n",
       "        vertical-align: middle;\n",
       "    }\n",
       "\n",
       "    .dataframe tbody tr th {\n",
       "        vertical-align: top;\n",
       "    }\n",
       "\n",
       "    .dataframe thead th {\n",
       "        text-align: right;\n",
       "    }\n",
       "</style>\n",
       "<table border=\"1\" class=\"dataframe\">\n",
       "  <thead>\n",
       "    <tr style=\"text-align: right;\">\n",
       "      <th></th>\n",
       "      <th>AREA</th>\n",
       "      <th>RAINFALL</th>\n",
       "      <th>AVG_TEMPERATURE</th>\n",
       "      <th>HUMIDITY</th>\n",
       "      <th>GROUND_WATERLEVEL</th>\n",
       "      <th>PRODUCTION</th>\n",
       "    </tr>\n",
       "  </thead>\n",
       "  <tbody>\n",
       "    <tr>\n",
       "      <th>0</th>\n",
       "      <td>108608</td>\n",
       "      <td>8.18</td>\n",
       "      <td>24.1</td>\n",
       "      <td>64.0</td>\n",
       "      <td>4.71</td>\n",
       "      <td>376544</td>\n",
       "    </tr>\n",
       "    <tr>\n",
       "      <th>1</th>\n",
       "      <td>141154</td>\n",
       "      <td>166.00</td>\n",
       "      <td>26.4</td>\n",
       "      <td>74.3</td>\n",
       "      <td>5.86</td>\n",
       "      <td>429108</td>\n",
       "    </tr>\n",
       "    <tr>\n",
       "      <th>2</th>\n",
       "      <td>103207</td>\n",
       "      <td>10.98</td>\n",
       "      <td>24.1</td>\n",
       "      <td>60.1</td>\n",
       "      <td>6.07</td>\n",
       "      <td>332223</td>\n",
       "    </tr>\n",
       "    <tr>\n",
       "      <th>3</th>\n",
       "      <td>133365</td>\n",
       "      <td>137.04</td>\n",
       "      <td>28.0</td>\n",
       "      <td>73.0</td>\n",
       "      <td>5.67</td>\n",
       "      <td>345015</td>\n",
       "    </tr>\n",
       "    <tr>\n",
       "      <th>4</th>\n",
       "      <td>48545</td>\n",
       "      <td>7.30</td>\n",
       "      <td>24.6</td>\n",
       "      <td>64.0</td>\n",
       "      <td>6.47</td>\n",
       "      <td>152965</td>\n",
       "    </tr>\n",
       "  </tbody>\n",
       "</table>\n",
       "</div>"
      ],
      "text/plain": [
       "     AREA  RAINFALL  AVG_TEMPERATURE  HUMIDITY  GROUND_WATERLEVEL  PRODUCTION\n",
       "0  108608      8.18             24.1      64.0               4.71      376544\n",
       "1  141154    166.00             26.4      74.3               5.86      429108\n",
       "2  103207     10.98             24.1      60.1               6.07      332223\n",
       "3  133365    137.04             28.0      73.0               5.67      345015\n",
       "4   48545      7.30             24.6      64.0               6.47      152965"
      ]
     },
     "execution_count": 7,
     "metadata": {},
     "output_type": "execute_result"
    }
   ],
   "source": [
    "df.head()"
   ]
  },
  {
   "cell_type": "code",
   "execution_count": 8,
   "metadata": {},
   "outputs": [
    {
     "name": "stdout",
     "output_type": "stream",
     "text": [
      "AREA                   int64\n",
      "RAINFALL             float64\n",
      "AVG_TEMPERATURE      float64\n",
      "HUMIDITY             float64\n",
      "GROUND_WATERLEVEL    float64\n",
      "PRODUCTION             int64\n",
      "dtype: object\n"
     ]
    }
   ],
   "source": [
    "print(df.dtypes)"
   ]
  },
  {
   "cell_type": "code",
   "execution_count": 9,
   "metadata": {},
   "outputs": [
    {
     "name": "stdout",
     "output_type": "stream",
     "text": [
      "\n"
     ]
    }
   ],
   "source": [
    "df['AREA'] = df['AREA'].astype(float) \n",
    "df['PRODUCTION'] = df['PRODUCTION'].astype(float) \n",
    "  \n",
    "print()"
   ]
  },
  {
   "cell_type": "code",
   "execution_count": 10,
   "metadata": {},
   "outputs": [
    {
     "name": "stdout",
     "output_type": "stream",
     "text": [
      "AREA                 float64\n",
      "RAINFALL             float64\n",
      "AVG_TEMPERATURE      float64\n",
      "HUMIDITY             float64\n",
      "GROUND_WATERLEVEL    float64\n",
      "PRODUCTION           float64\n",
      "dtype: object\n"
     ]
    }
   ],
   "source": [
    "print(df.dtypes)"
   ]
  },
  {
   "cell_type": "code",
   "execution_count": 11,
   "metadata": {},
   "outputs": [
    {
     "data": {
      "text/html": [
       "<div>\n",
       "<style scoped>\n",
       "    .dataframe tbody tr th:only-of-type {\n",
       "        vertical-align: middle;\n",
       "    }\n",
       "\n",
       "    .dataframe tbody tr th {\n",
       "        vertical-align: top;\n",
       "    }\n",
       "\n",
       "    .dataframe thead th {\n",
       "        text-align: right;\n",
       "    }\n",
       "</style>\n",
       "<table border=\"1\" class=\"dataframe\">\n",
       "  <thead>\n",
       "    <tr style=\"text-align: right;\">\n",
       "      <th></th>\n",
       "      <th>AREA</th>\n",
       "      <th>RAINFALL</th>\n",
       "      <th>AVG_TEMPERATURE</th>\n",
       "      <th>HUMIDITY</th>\n",
       "      <th>GROUND_WATERLEVEL</th>\n",
       "      <th>PRODUCTION</th>\n",
       "    </tr>\n",
       "  </thead>\n",
       "  <tbody>\n",
       "    <tr>\n",
       "      <th>0</th>\n",
       "      <td>108608.0</td>\n",
       "      <td>8.18</td>\n",
       "      <td>24.1</td>\n",
       "      <td>64.0</td>\n",
       "      <td>4.710</td>\n",
       "      <td>376544.0</td>\n",
       "    </tr>\n",
       "    <tr>\n",
       "      <th>1</th>\n",
       "      <td>141154.0</td>\n",
       "      <td>166.00</td>\n",
       "      <td>26.4</td>\n",
       "      <td>74.3</td>\n",
       "      <td>5.860</td>\n",
       "      <td>429108.0</td>\n",
       "    </tr>\n",
       "    <tr>\n",
       "      <th>2</th>\n",
       "      <td>103207.0</td>\n",
       "      <td>10.98</td>\n",
       "      <td>24.1</td>\n",
       "      <td>60.1</td>\n",
       "      <td>6.070</td>\n",
       "      <td>332223.0</td>\n",
       "    </tr>\n",
       "    <tr>\n",
       "      <th>3</th>\n",
       "      <td>133365.0</td>\n",
       "      <td>137.04</td>\n",
       "      <td>28.0</td>\n",
       "      <td>73.0</td>\n",
       "      <td>5.670</td>\n",
       "      <td>345015.0</td>\n",
       "    </tr>\n",
       "    <tr>\n",
       "      <th>4</th>\n",
       "      <td>48545.0</td>\n",
       "      <td>7.30</td>\n",
       "      <td>24.6</td>\n",
       "      <td>64.0</td>\n",
       "      <td>6.470</td>\n",
       "      <td>152965.0</td>\n",
       "    </tr>\n",
       "    <tr>\n",
       "      <th>5</th>\n",
       "      <td>122858.0</td>\n",
       "      <td>179.24</td>\n",
       "      <td>29.4</td>\n",
       "      <td>71.0</td>\n",
       "      <td>6.100</td>\n",
       "      <td>395726.0</td>\n",
       "    </tr>\n",
       "    <tr>\n",
       "      <th>6</th>\n",
       "      <td>64718.0</td>\n",
       "      <td>14.85</td>\n",
       "      <td>23.9</td>\n",
       "      <td>62.1</td>\n",
       "      <td>6.630</td>\n",
       "      <td>206321.0</td>\n",
       "    </tr>\n",
       "    <tr>\n",
       "      <th>7</th>\n",
       "      <td>65453.0</td>\n",
       "      <td>107.94</td>\n",
       "      <td>27.9</td>\n",
       "      <td>69.6</td>\n",
       "      <td>8.330</td>\n",
       "      <td>147989.0</td>\n",
       "    </tr>\n",
       "    <tr>\n",
       "      <th>8</th>\n",
       "      <td>18182.0</td>\n",
       "      <td>14.85</td>\n",
       "      <td>23.8</td>\n",
       "      <td>65.2</td>\n",
       "      <td>10.140</td>\n",
       "      <td>50382.0</td>\n",
       "    </tr>\n",
       "    <tr>\n",
       "      <th>9</th>\n",
       "      <td>146979.0</td>\n",
       "      <td>204.94</td>\n",
       "      <td>26.3</td>\n",
       "      <td>72.5</td>\n",
       "      <td>8.860</td>\n",
       "      <td>501639.0</td>\n",
       "    </tr>\n",
       "    <tr>\n",
       "      <th>10</th>\n",
       "      <td>119417.0</td>\n",
       "      <td>13.68</td>\n",
       "      <td>24.8</td>\n",
       "      <td>59.8</td>\n",
       "      <td>5.960</td>\n",
       "      <td>410675.0</td>\n",
       "    </tr>\n",
       "    <tr>\n",
       "      <th>11</th>\n",
       "      <td>166750.0</td>\n",
       "      <td>178.16</td>\n",
       "      <td>27.1</td>\n",
       "      <td>74.0</td>\n",
       "      <td>5.130</td>\n",
       "      <td>521094.0</td>\n",
       "    </tr>\n",
       "    <tr>\n",
       "      <th>12</th>\n",
       "      <td>166759.0</td>\n",
       "      <td>7.94</td>\n",
       "      <td>24.1</td>\n",
       "      <td>63.8</td>\n",
       "      <td>4.420</td>\n",
       "      <td>548470.0</td>\n",
       "    </tr>\n",
       "    <tr>\n",
       "      <th>13</th>\n",
       "      <td>130000.0</td>\n",
       "      <td>164.18</td>\n",
       "      <td>26.3</td>\n",
       "      <td>71.2</td>\n",
       "      <td>2.450</td>\n",
       "      <td>441000.0</td>\n",
       "    </tr>\n",
       "    <tr>\n",
       "      <th>14</th>\n",
       "      <td>152000.0</td>\n",
       "      <td>28.28</td>\n",
       "      <td>24.5</td>\n",
       "      <td>64.3</td>\n",
       "      <td>2.700</td>\n",
       "      <td>545000.0</td>\n",
       "    </tr>\n",
       "    <tr>\n",
       "      <th>15</th>\n",
       "      <td>160406.0</td>\n",
       "      <td>175.80</td>\n",
       "      <td>26.0</td>\n",
       "      <td>71.0</td>\n",
       "      <td>2.418</td>\n",
       "      <td>543135.0</td>\n",
       "    </tr>\n",
       "    <tr>\n",
       "      <th>16</th>\n",
       "      <td>175551.0</td>\n",
       "      <td>2.50</td>\n",
       "      <td>24.1</td>\n",
       "      <td>65.3</td>\n",
       "      <td>3.022</td>\n",
       "      <td>632861.0</td>\n",
       "    </tr>\n",
       "    <tr>\n",
       "      <th>17</th>\n",
       "      <td>84886.0</td>\n",
       "      <td>123.14</td>\n",
       "      <td>25.0</td>\n",
       "      <td>72.0</td>\n",
       "      <td>3.390</td>\n",
       "      <td>274182.0</td>\n",
       "    </tr>\n",
       "    <tr>\n",
       "      <th>18</th>\n",
       "      <td>77439.0</td>\n",
       "      <td>9.58</td>\n",
       "      <td>24.6</td>\n",
       "      <td>64.6</td>\n",
       "      <td>3.980</td>\n",
       "      <td>239209.0</td>\n",
       "    </tr>\n",
       "    <tr>\n",
       "      <th>19</th>\n",
       "      <td>159548.0</td>\n",
       "      <td>235.82</td>\n",
       "      <td>28.8</td>\n",
       "      <td>74.0</td>\n",
       "      <td>2.580</td>\n",
       "      <td>523465.0</td>\n",
       "    </tr>\n",
       "    <tr>\n",
       "      <th>20</th>\n",
       "      <td>221971.0</td>\n",
       "      <td>12.86</td>\n",
       "      <td>24.6</td>\n",
       "      <td>63.0</td>\n",
       "      <td>2.592</td>\n",
       "      <td>828396.0</td>\n",
       "    </tr>\n",
       "    <tr>\n",
       "      <th>21</th>\n",
       "      <td>185727.0</td>\n",
       "      <td>139.84</td>\n",
       "      <td>28.4</td>\n",
       "      <td>77.0</td>\n",
       "      <td>2.840</td>\n",
       "      <td>601858.0</td>\n",
       "    </tr>\n",
       "    <tr>\n",
       "      <th>22</th>\n",
       "      <td>157649.0</td>\n",
       "      <td>9.83</td>\n",
       "      <td>24.9</td>\n",
       "      <td>59.0</td>\n",
       "      <td>3.650</td>\n",
       "      <td>518192.0</td>\n",
       "    </tr>\n",
       "  </tbody>\n",
       "</table>\n",
       "</div>"
      ],
      "text/plain": [
       "        AREA  RAINFALL  AVG_TEMPERATURE  HUMIDITY  GROUND_WATERLEVEL  \\\n",
       "0   108608.0      8.18             24.1      64.0              4.710   \n",
       "1   141154.0    166.00             26.4      74.3              5.860   \n",
       "2   103207.0     10.98             24.1      60.1              6.070   \n",
       "3   133365.0    137.04             28.0      73.0              5.670   \n",
       "4    48545.0      7.30             24.6      64.0              6.470   \n",
       "5   122858.0    179.24             29.4      71.0              6.100   \n",
       "6    64718.0     14.85             23.9      62.1              6.630   \n",
       "7    65453.0    107.94             27.9      69.6              8.330   \n",
       "8    18182.0     14.85             23.8      65.2             10.140   \n",
       "9   146979.0    204.94             26.3      72.5              8.860   \n",
       "10  119417.0     13.68             24.8      59.8              5.960   \n",
       "11  166750.0    178.16             27.1      74.0              5.130   \n",
       "12  166759.0      7.94             24.1      63.8              4.420   \n",
       "13  130000.0    164.18             26.3      71.2              2.450   \n",
       "14  152000.0     28.28             24.5      64.3              2.700   \n",
       "15  160406.0    175.80             26.0      71.0              2.418   \n",
       "16  175551.0      2.50             24.1      65.3              3.022   \n",
       "17   84886.0    123.14             25.0      72.0              3.390   \n",
       "18   77439.0      9.58             24.6      64.6              3.980   \n",
       "19  159548.0    235.82             28.8      74.0              2.580   \n",
       "20  221971.0     12.86             24.6      63.0              2.592   \n",
       "21  185727.0    139.84             28.4      77.0              2.840   \n",
       "22  157649.0      9.83             24.9      59.0              3.650   \n",
       "\n",
       "    PRODUCTION  \n",
       "0     376544.0  \n",
       "1     429108.0  \n",
       "2     332223.0  \n",
       "3     345015.0  \n",
       "4     152965.0  \n",
       "5     395726.0  \n",
       "6     206321.0  \n",
       "7     147989.0  \n",
       "8      50382.0  \n",
       "9     501639.0  \n",
       "10    410675.0  \n",
       "11    521094.0  \n",
       "12    548470.0  \n",
       "13    441000.0  \n",
       "14    545000.0  \n",
       "15    543135.0  \n",
       "16    632861.0  \n",
       "17    274182.0  \n",
       "18    239209.0  \n",
       "19    523465.0  \n",
       "20    828396.0  \n",
       "21    601858.0  \n",
       "22    518192.0  "
      ]
     },
     "execution_count": 11,
     "metadata": {},
     "output_type": "execute_result"
    }
   ],
   "source": [
    "df"
   ]
  },
  {
   "cell_type": "code",
   "execution_count": 12,
   "metadata": {},
   "outputs": [
    {
     "name": "stdout",
     "output_type": "stream",
     "text": [
      "(23, 6)\n",
      "[[1.08608e+05 8.18000e+00 2.41000e+01 6.40000e+01 4.71000e+00 3.76544e+05]\n",
      " [1.41154e+05 1.66000e+02 2.64000e+01 7.43000e+01 5.86000e+00 4.29108e+05]\n",
      " [1.03207e+05 1.09800e+01 2.41000e+01 6.01000e+01 6.07000e+00 3.32223e+05]\n",
      " [1.33365e+05 1.37040e+02 2.80000e+01 7.30000e+01 5.67000e+00 3.45015e+05]\n",
      " [4.85450e+04 7.30000e+00 2.46000e+01 6.40000e+01 6.47000e+00 1.52965e+05]\n",
      " [1.22858e+05 1.79240e+02 2.94000e+01 7.10000e+01 6.10000e+00 3.95726e+05]\n",
      " [6.47180e+04 1.48500e+01 2.39000e+01 6.21000e+01 6.63000e+00 2.06321e+05]\n",
      " [6.54530e+04 1.07940e+02 2.79000e+01 6.96000e+01 8.33000e+00 1.47989e+05]\n",
      " [1.81820e+04 1.48500e+01 2.38000e+01 6.52000e+01 1.01400e+01 5.03820e+04]\n",
      " [1.46979e+05 2.04940e+02 2.63000e+01 7.25000e+01 8.86000e+00 5.01639e+05]\n",
      " [1.19417e+05 1.36800e+01 2.48000e+01 5.98000e+01 5.96000e+00 4.10675e+05]\n",
      " [1.66750e+05 1.78160e+02 2.71000e+01 7.40000e+01 5.13000e+00 5.21094e+05]\n",
      " [1.66759e+05 7.94000e+00 2.41000e+01 6.38000e+01 4.42000e+00 5.48470e+05]\n",
      " [1.30000e+05 1.64180e+02 2.63000e+01 7.12000e+01 2.45000e+00 4.41000e+05]\n",
      " [1.52000e+05 2.82800e+01 2.45000e+01 6.43000e+01 2.70000e+00 5.45000e+05]\n",
      " [1.60406e+05 1.75800e+02 2.60000e+01 7.10000e+01 2.41800e+00 5.43135e+05]\n",
      " [1.75551e+05 2.50000e+00 2.41000e+01 6.53000e+01 3.02200e+00 6.32861e+05]\n",
      " [8.48860e+04 1.23140e+02 2.50000e+01 7.20000e+01 3.39000e+00 2.74182e+05]\n",
      " [7.74390e+04 9.58000e+00 2.46000e+01 6.46000e+01 3.98000e+00 2.39209e+05]\n",
      " [1.59548e+05 2.35820e+02 2.88000e+01 7.40000e+01 2.58000e+00 5.23465e+05]\n",
      " [2.21971e+05 1.28600e+01 2.46000e+01 6.30000e+01 2.59200e+00 8.28396e+05]\n",
      " [1.85727e+05 1.39840e+02 2.84000e+01 7.70000e+01 2.84000e+00 6.01858e+05]\n",
      " [1.57649e+05 9.83000e+00 2.49000e+01 5.90000e+01 3.65000e+00 5.18192e+05]]\n"
     ]
    }
   ],
   "source": [
    "X = df.values\n",
    "print(X.shape)\n",
    "print(X)"
   ]
  },
  {
   "cell_type": "code",
   "execution_count": 13,
   "metadata": {},
   "outputs": [],
   "source": [
    "y = X[:,-1]\n",
    "X = X[:,:5]"
   ]
  },
  {
   "cell_type": "code",
   "execution_count": 14,
   "metadata": {},
   "outputs": [
    {
     "name": "stdout",
     "output_type": "stream",
     "text": [
      "(23, 5)\n",
      "(23,)\n",
      "[[1.08608e+05 8.18000e+00 2.41000e+01 6.40000e+01 4.71000e+00]\n",
      " [1.41154e+05 1.66000e+02 2.64000e+01 7.43000e+01 5.86000e+00]\n",
      " [1.03207e+05 1.09800e+01 2.41000e+01 6.01000e+01 6.07000e+00]\n",
      " [1.33365e+05 1.37040e+02 2.80000e+01 7.30000e+01 5.67000e+00]\n",
      " [4.85450e+04 7.30000e+00 2.46000e+01 6.40000e+01 6.47000e+00]\n",
      " [1.22858e+05 1.79240e+02 2.94000e+01 7.10000e+01 6.10000e+00]\n",
      " [6.47180e+04 1.48500e+01 2.39000e+01 6.21000e+01 6.63000e+00]\n",
      " [6.54530e+04 1.07940e+02 2.79000e+01 6.96000e+01 8.33000e+00]\n",
      " [1.81820e+04 1.48500e+01 2.38000e+01 6.52000e+01 1.01400e+01]\n",
      " [1.46979e+05 2.04940e+02 2.63000e+01 7.25000e+01 8.86000e+00]\n",
      " [1.19417e+05 1.36800e+01 2.48000e+01 5.98000e+01 5.96000e+00]\n",
      " [1.66750e+05 1.78160e+02 2.71000e+01 7.40000e+01 5.13000e+00]\n",
      " [1.66759e+05 7.94000e+00 2.41000e+01 6.38000e+01 4.42000e+00]\n",
      " [1.30000e+05 1.64180e+02 2.63000e+01 7.12000e+01 2.45000e+00]\n",
      " [1.52000e+05 2.82800e+01 2.45000e+01 6.43000e+01 2.70000e+00]\n",
      " [1.60406e+05 1.75800e+02 2.60000e+01 7.10000e+01 2.41800e+00]\n",
      " [1.75551e+05 2.50000e+00 2.41000e+01 6.53000e+01 3.02200e+00]\n",
      " [8.48860e+04 1.23140e+02 2.50000e+01 7.20000e+01 3.39000e+00]\n",
      " [7.74390e+04 9.58000e+00 2.46000e+01 6.46000e+01 3.98000e+00]\n",
      " [1.59548e+05 2.35820e+02 2.88000e+01 7.40000e+01 2.58000e+00]\n",
      " [2.21971e+05 1.28600e+01 2.46000e+01 6.30000e+01 2.59200e+00]\n",
      " [1.85727e+05 1.39840e+02 2.84000e+01 7.70000e+01 2.84000e+00]\n",
      " [1.57649e+05 9.83000e+00 2.49000e+01 5.90000e+01 3.65000e+00]]\n",
      "[376544. 429108. 332223. 345015. 152965. 395726. 206321. 147989.  50382.\n",
      " 501639. 410675. 521094. 548470. 441000. 545000. 543135. 632861. 274182.\n",
      " 239209. 523465. 828396. 601858. 518192.]\n"
     ]
    }
   ],
   "source": [
    "print(X.shape)\n",
    "print(y.shape)\n",
    "print(X)\n",
    "print(y)"
   ]
  },
  {
   "cell_type": "code",
   "execution_count": 16,
   "metadata": {},
   "outputs": [],
   "source": [
    "from sklearn.model_selection import train_test_split\n",
    "X_train, X_test, y_train, y_test = train_test_split(X, y, test_size = 0.2, random_state = 0)"
   ]
  },
  {
   "cell_type": "code",
   "execution_count": 17,
   "metadata": {},
   "outputs": [
    {
     "data": {
      "text/plain": [
       "LinearRegression()"
      ]
     },
     "execution_count": 17,
     "metadata": {},
     "output_type": "execute_result"
    }
   ],
   "source": [
    "from sklearn.linear_model import LinearRegression\n",
    "regressor = LinearRegression()\n",
    "regressor.fit(X_train, y_train)"
   ]
  },
  {
   "cell_type": "code",
   "execution_count": 21,
   "metadata": {},
   "outputs": [
    {
     "name": "stdout",
     "output_type": "stream",
     "text": [
      "[536476.07810264 399635.50657711 560618.45581484 514086.8730177\n",
      " 752605.31012601]\n"
     ]
    }
   ],
   "source": [
    "# Predicting the Test set results\n",
    "y_pred = regressor.predict(X_test)\n",
    "print(y_pred)\n",
    "print()"
   ]
  },
  {
   "cell_type": "code",
   "execution_count": 23,
   "metadata": {},
   "outputs": [
    {
     "name": "stdout",
     "output_type": "stream",
     "text": [
      "0.9083154010188321\n"
     ]
    }
   ],
   "source": [
    "from sklearn.metrics import r2_score\n",
    "score=r2_score(y_test,y_pred)\n",
    "print(score)"
   ]
  },
  {
   "cell_type": "code",
   "execution_count": null,
   "metadata": {},
   "outputs": [],
   "source": []
  }
 ],
 "metadata": {
  "kernelspec": {
   "display_name": "Python 3",
   "language": "python",
   "name": "python3"
  },
  "language_info": {
   "codemirror_mode": {
    "name": "ipython",
    "version": 3
   },
   "file_extension": ".py",
   "mimetype": "text/x-python",
   "name": "python",
   "nbconvert_exporter": "python",
   "pygments_lexer": "ipython3",
   "version": "3.7.7"
  }
 },
 "nbformat": 4,
 "nbformat_minor": 4
}
