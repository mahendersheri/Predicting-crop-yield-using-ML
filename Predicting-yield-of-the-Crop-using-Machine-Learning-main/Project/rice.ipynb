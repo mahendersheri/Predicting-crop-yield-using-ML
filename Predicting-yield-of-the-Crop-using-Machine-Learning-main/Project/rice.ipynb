{
 "cells": [
  {
   "cell_type": "code",
   "execution_count": 469,
   "metadata": {},
   "outputs": [],
   "source": [
    "import pandas as pd "
   ]
  },
  {
   "cell_type": "code",
   "execution_count": 470,
   "metadata": {},
   "outputs": [],
   "source": [
    "data = pd.read_csv('D:/Data Science/Project/pmf.csv')"
   ]
  },
  {
   "cell_type": "code",
   "execution_count": 471,
   "metadata": {},
   "outputs": [],
   "source": [
    "df = pd.DataFrame(data)"
   ]
  },
  {
   "cell_type": "code",
   "execution_count": 472,
   "metadata": {},
   "outputs": [
    {
     "data": {
      "text/html": [
       "<div>\n",
       "<style scoped>\n",
       "    .dataframe tbody tr th:only-of-type {\n",
       "        vertical-align: middle;\n",
       "    }\n",
       "\n",
       "    .dataframe tbody tr th {\n",
       "        vertical-align: top;\n",
       "    }\n",
       "\n",
       "    .dataframe thead th {\n",
       "        text-align: right;\n",
       "    }\n",
       "</style>\n",
       "<table border=\"1\" class=\"dataframe\">\n",
       "  <thead>\n",
       "    <tr style=\"text-align: right;\">\n",
       "      <th></th>\n",
       "      <th>AREA</th>\n",
       "      <th>RAINFALL</th>\n",
       "      <th>AVG_TEMPERATURE</th>\n",
       "      <th>HUMIDITY</th>\n",
       "      <th>GROUND_WATERLEVEL</th>\n",
       "      <th>PRODUCTION</th>\n",
       "    </tr>\n",
       "  </thead>\n",
       "  <tbody>\n",
       "    <tr>\n",
       "      <th>0</th>\n",
       "      <td>66576</td>\n",
       "      <td>197.10</td>\n",
       "      <td>28.7</td>\n",
       "      <td>72.0</td>\n",
       "      <td>4.025</td>\n",
       "      <td>166048</td>\n",
       "    </tr>\n",
       "    <tr>\n",
       "      <th>1</th>\n",
       "      <td>80520</td>\n",
       "      <td>166.00</td>\n",
       "      <td>26.4</td>\n",
       "      <td>74.3</td>\n",
       "      <td>5.860</td>\n",
       "      <td>103729</td>\n",
       "    </tr>\n",
       "    <tr>\n",
       "      <th>2</th>\n",
       "      <td>46302</td>\n",
       "      <td>137.04</td>\n",
       "      <td>28.0</td>\n",
       "      <td>73.0</td>\n",
       "      <td>5.670</td>\n",
       "      <td>71087</td>\n",
       "    </tr>\n",
       "    <tr>\n",
       "      <th>3</th>\n",
       "      <td>48689</td>\n",
       "      <td>179.24</td>\n",
       "      <td>29.4</td>\n",
       "      <td>71.0</td>\n",
       "      <td>6.100</td>\n",
       "      <td>106829</td>\n",
       "    </tr>\n",
       "    <tr>\n",
       "      <th>4</th>\n",
       "      <td>100110</td>\n",
       "      <td>107.94</td>\n",
       "      <td>27.9</td>\n",
       "      <td>69.6</td>\n",
       "      <td>8.330</td>\n",
       "      <td>124843</td>\n",
       "    </tr>\n",
       "  </tbody>\n",
       "</table>\n",
       "</div>"
      ],
      "text/plain": [
       "     AREA  RAINFALL  AVG_TEMPERATURE  HUMIDITY  GROUND_WATERLEVEL  PRODUCTION\n",
       "0   66576    197.10             28.7      72.0              4.025      166048\n",
       "1   80520    166.00             26.4      74.3              5.860      103729\n",
       "2   46302    137.04             28.0      73.0              5.670       71087\n",
       "3   48689    179.24             29.4      71.0              6.100      106829\n",
       "4  100110    107.94             27.9      69.6              8.330      124843"
      ]
     },
     "execution_count": 472,
     "metadata": {},
     "output_type": "execute_result"
    }
   ],
   "source": [
    "df.head()"
   ]
  },
  {
   "cell_type": "code",
   "execution_count": 473,
   "metadata": {},
   "outputs": [
    {
     "name": "stdout",
     "output_type": "stream",
     "text": [
      "AREA                   int64\n",
      "RAINFALL             float64\n",
      "AVG_TEMPERATURE      float64\n",
      "HUMIDITY             float64\n",
      "GROUND_WATERLEVEL    float64\n",
      "PRODUCTION             int64\n",
      "dtype: object\n"
     ]
    }
   ],
   "source": [
    "print(df.dtypes)"
   ]
  },
  {
   "cell_type": "code",
   "execution_count": 474,
   "metadata": {},
   "outputs": [
    {
     "name": "stdout",
     "output_type": "stream",
     "text": [
      "\n"
     ]
    }
   ],
   "source": [
    "df['AREA'] = df['AREA'].astype(float) \n",
    "df['PRODUCTION'] = df['PRODUCTION'].astype(float) \n",
    "  \n",
    "print() "
   ]
  },
  {
   "cell_type": "code",
   "execution_count": 475,
   "metadata": {},
   "outputs": [
    {
     "name": "stdout",
     "output_type": "stream",
     "text": [
      "AREA                 float64\n",
      "RAINFALL             float64\n",
      "AVG_TEMPERATURE      float64\n",
      "HUMIDITY             float64\n",
      "GROUND_WATERLEVEL    float64\n",
      "PRODUCTION           float64\n",
      "dtype: object\n"
     ]
    }
   ],
   "source": [
    "print(df.dtypes) "
   ]
  },
  {
   "cell_type": "code",
   "execution_count": 476,
   "metadata": {},
   "outputs": [
    {
     "data": {
      "text/html": [
       "<div>\n",
       "<style scoped>\n",
       "    .dataframe tbody tr th:only-of-type {\n",
       "        vertical-align: middle;\n",
       "    }\n",
       "\n",
       "    .dataframe tbody tr th {\n",
       "        vertical-align: top;\n",
       "    }\n",
       "\n",
       "    .dataframe thead th {\n",
       "        text-align: right;\n",
       "    }\n",
       "</style>\n",
       "<table border=\"1\" class=\"dataframe\">\n",
       "  <thead>\n",
       "    <tr style=\"text-align: right;\">\n",
       "      <th></th>\n",
       "      <th>AREA</th>\n",
       "      <th>RAINFALL</th>\n",
       "      <th>AVG_TEMPERATURE</th>\n",
       "      <th>HUMIDITY</th>\n",
       "      <th>GROUND_WATERLEVEL</th>\n",
       "      <th>PRODUCTION</th>\n",
       "    </tr>\n",
       "  </thead>\n",
       "  <tbody>\n",
       "    <tr>\n",
       "      <th>0</th>\n",
       "      <td>66576.0</td>\n",
       "      <td>197.10</td>\n",
       "      <td>28.7</td>\n",
       "      <td>72.0</td>\n",
       "      <td>4.025</td>\n",
       "      <td>166048.0</td>\n",
       "    </tr>\n",
       "    <tr>\n",
       "      <th>1</th>\n",
       "      <td>80520.0</td>\n",
       "      <td>166.00</td>\n",
       "      <td>26.4</td>\n",
       "      <td>74.3</td>\n",
       "      <td>5.860</td>\n",
       "      <td>103729.0</td>\n",
       "    </tr>\n",
       "    <tr>\n",
       "      <th>2</th>\n",
       "      <td>46302.0</td>\n",
       "      <td>137.04</td>\n",
       "      <td>28.0</td>\n",
       "      <td>73.0</td>\n",
       "      <td>5.670</td>\n",
       "      <td>71087.0</td>\n",
       "    </tr>\n",
       "    <tr>\n",
       "      <th>3</th>\n",
       "      <td>48689.0</td>\n",
       "      <td>179.24</td>\n",
       "      <td>29.4</td>\n",
       "      <td>71.0</td>\n",
       "      <td>6.100</td>\n",
       "      <td>106829.0</td>\n",
       "    </tr>\n",
       "    <tr>\n",
       "      <th>4</th>\n",
       "      <td>100110.0</td>\n",
       "      <td>107.94</td>\n",
       "      <td>27.9</td>\n",
       "      <td>69.6</td>\n",
       "      <td>8.330</td>\n",
       "      <td>124843.0</td>\n",
       "    </tr>\n",
       "    <tr>\n",
       "      <th>...</th>\n",
       "      <td>...</td>\n",
       "      <td>...</td>\n",
       "      <td>...</td>\n",
       "      <td>...</td>\n",
       "      <td>...</td>\n",
       "      <td>...</td>\n",
       "    </tr>\n",
       "    <tr>\n",
       "      <th>279</th>\n",
       "      <td>1230.0</td>\n",
       "      <td>25.65</td>\n",
       "      <td>24.7</td>\n",
       "      <td>63.8</td>\n",
       "      <td>3.482</td>\n",
       "      <td>790.0</td>\n",
       "    </tr>\n",
       "    <tr>\n",
       "      <th>280</th>\n",
       "      <td>101.0</td>\n",
       "      <td>253.02</td>\n",
       "      <td>27.8</td>\n",
       "      <td>73.4</td>\n",
       "      <td>1.876</td>\n",
       "      <td>83.0</td>\n",
       "    </tr>\n",
       "    <tr>\n",
       "      <th>281</th>\n",
       "      <td>4468.0</td>\n",
       "      <td>16.10</td>\n",
       "      <td>24.2</td>\n",
       "      <td>63.2</td>\n",
       "      <td>2.632</td>\n",
       "      <td>4379.0</td>\n",
       "    </tr>\n",
       "    <tr>\n",
       "      <th>282</th>\n",
       "      <td>68.0</td>\n",
       "      <td>117.98</td>\n",
       "      <td>29.2</td>\n",
       "      <td>65.8</td>\n",
       "      <td>5.064</td>\n",
       "      <td>45.0</td>\n",
       "    </tr>\n",
       "    <tr>\n",
       "      <th>283</th>\n",
       "      <td>2315.0</td>\n",
       "      <td>14.40</td>\n",
       "      <td>24.8</td>\n",
       "      <td>68.2</td>\n",
       "      <td>5.064</td>\n",
       "      <td>940.0</td>\n",
       "    </tr>\n",
       "  </tbody>\n",
       "</table>\n",
       "<p>284 rows × 6 columns</p>\n",
       "</div>"
      ],
      "text/plain": [
       "         AREA  RAINFALL  AVG_TEMPERATURE  HUMIDITY  GROUND_WATERLEVEL  \\\n",
       "0     66576.0    197.10             28.7      72.0              4.025   \n",
       "1     80520.0    166.00             26.4      74.3              5.860   \n",
       "2     46302.0    137.04             28.0      73.0              5.670   \n",
       "3     48689.0    179.24             29.4      71.0              6.100   \n",
       "4    100110.0    107.94             27.9      69.6              8.330   \n",
       "..        ...       ...              ...       ...                ...   \n",
       "279    1230.0     25.65             24.7      63.8              3.482   \n",
       "280     101.0    253.02             27.8      73.4              1.876   \n",
       "281    4468.0     16.10             24.2      63.2              2.632   \n",
       "282      68.0    117.98             29.2      65.8              5.064   \n",
       "283    2315.0     14.40             24.8      68.2              5.064   \n",
       "\n",
       "     PRODUCTION  \n",
       "0      166048.0  \n",
       "1      103729.0  \n",
       "2       71087.0  \n",
       "3      106829.0  \n",
       "4      124843.0  \n",
       "..          ...  \n",
       "279       790.0  \n",
       "280        83.0  \n",
       "281      4379.0  \n",
       "282        45.0  \n",
       "283       940.0  \n",
       "\n",
       "[284 rows x 6 columns]"
      ]
     },
     "execution_count": 476,
     "metadata": {},
     "output_type": "execute_result"
    }
   ],
   "source": [
    "df"
   ]
  },
  {
   "cell_type": "code",
   "execution_count": 477,
   "metadata": {},
   "outputs": [],
   "source": [
    "X = df.values"
   ]
  },
  {
   "cell_type": "code",
   "execution_count": 478,
   "metadata": {},
   "outputs": [
    {
     "name": "stdout",
     "output_type": "stream",
     "text": [
      "(284, 6)\n",
      "[[6.65760e+04 1.97100e+02 2.87000e+01 7.20000e+01 4.02500e+00 1.66048e+05]\n",
      " [8.05200e+04 1.66000e+02 2.64000e+01 7.43000e+01 5.86000e+00 1.03729e+05]\n",
      " [4.63020e+04 1.37040e+02 2.80000e+01 7.30000e+01 5.67000e+00 7.10870e+04]\n",
      " ...\n",
      " [4.46800e+03 1.61000e+01 2.42000e+01 6.32000e+01 2.63200e+00 4.37900e+03]\n",
      " [6.80000e+01 1.17980e+02 2.92000e+01 6.58000e+01 5.06400e+00 4.50000e+01]\n",
      " [2.31500e+03 1.44000e+01 2.48000e+01 6.82000e+01 5.06400e+00 9.40000e+02]]\n"
     ]
    }
   ],
   "source": [
    "\n",
    "\n",
    "\n",
    "print(X.shape)\n",
    "print(X)\n"
   ]
  },
  {
   "cell_type": "code",
   "execution_count": 479,
   "metadata": {},
   "outputs": [
    {
     "name": "stdout",
     "output_type": "stream",
     "text": [
      "<class 'numpy.ndarray'>\n"
     ]
    }
   ],
   "source": [
    "print(type(X))\n"
   ]
  },
  {
   "cell_type": "code",
   "execution_count": 480,
   "metadata": {},
   "outputs": [],
   "source": [
    "y1 = X[:15,-1]\n",
    "X1 = X[:15,:5]"
   ]
  },
  {
   "cell_type": "code",
   "execution_count": 481,
   "metadata": {},
   "outputs": [
    {
     "name": "stdout",
     "output_type": "stream",
     "text": [
      "(15, 5)\n",
      "(15,)\n",
      "[[6.65760e+04 1.97100e+02 2.87000e+01 7.20000e+01 4.02500e+00]\n",
      " [8.05200e+04 1.66000e+02 2.64000e+01 7.43000e+01 5.86000e+00]\n",
      " [4.63020e+04 1.37040e+02 2.80000e+01 7.30000e+01 5.67000e+00]\n",
      " [4.86890e+04 1.79240e+02 2.94000e+01 7.10000e+01 6.10000e+00]\n",
      " [1.00110e+05 1.07940e+02 2.79000e+01 6.96000e+01 8.33000e+00]\n",
      " [1.17500e+05 2.04940e+02 2.63000e+01 7.25000e+01 8.86000e+00]\n",
      " [1.17151e+05 1.78160e+02 2.71000e+01 7.40000e+01 5.13000e+00]\n",
      " [1.37000e+05 1.64180e+02 2.63000e+01 7.12000e+01 2.45000e+00]\n",
      " [1.80127e+05 1.75800e+02 2.60000e+01 7.10000e+01 2.41800e+00]\n",
      " [1.99553e+05 1.23140e+02 2.50000e+01 7.20000e+01 3.39000e+00]\n",
      " [2.35396e+05 2.35820e+02 2.88000e+01 7.40000e+01 2.58000e+00]\n",
      " [2.35245e+05 1.39840e+02 2.84000e+01 7.70000e+01 2.84000e+00]\n",
      " [1.43581e+05 1.88120e+02 2.80000e+01 7.24000e+01 2.96800e+00]\n",
      " [2.31378e+05 2.53020e+02 2.78000e+01 7.34000e+01 1.87600e+00]\n",
      " [2.14586e+05 1.17980e+02 2.92000e+01 6.58000e+01 3.04200e+00]]\n",
      "[166048. 103729.  71087. 106829. 124843. 269559. 223276. 452000. 425947.\n",
      " 461320. 502640. 293364. 318254. 669212. 585694.]\n"
     ]
    }
   ],
   "source": [
    "print(X1.shape)\n",
    "print(y1.shape)\n",
    "print(X1)\n",
    "print(y1)\n",
    " "
   ]
  },
  {
   "cell_type": "code",
   "execution_count": 482,
   "metadata": {},
   "outputs": [],
   "source": [
    "import numpy as np\n",
    "u = np.mean(X1,axis=0)\n",
    "std = np.std(X1,axis=0)"
   ]
  },
  {
   "cell_type": "code",
   "execution_count": 483,
   "metadata": {},
   "outputs": [
    {
     "name": "stdout",
     "output_type": "stream",
     "text": [
      "[6.62000692e+04 4.03902731e+01 1.26220266e+00 2.41960511e+00\n",
      " 2.11963275e+00]\n",
      "[1.43580933e+05 1.71221333e+02 2.75533333e+01 7.22133333e+01\n",
      " 4.36926667e+00]\n",
      "[[-1.16321530e+00  6.40715318e-01  9.08464784e-01 -8.81686571e-02\n",
      "  -1.62418073e-01]\n",
      " [-9.52581079e-01 -1.29272048e-01 -9.13746556e-01  8.62399678e-01\n",
      "   7.03297934e-01]\n",
      " [-1.46946876e+00 -8.46276362e-01  3.53878724e-01  3.25121923e-01\n",
      "   6.13659764e-01]\n",
      " [-1.43341139e+00  1.98529647e-01  1.46305084e+00 -5.01459237e-01\n",
      "   8.16525095e-01]\n",
      " [-6.56659938e-01 -1.56674686e+00  2.74652144e-01 -1.08006605e+00\n",
      "   1.86859414e+00]\n",
      " [-3.93971391e-01  8.34821458e-01 -9.92973136e-01  1.18476633e-01\n",
      "   2.11863745e+00]\n",
      " [-3.99243289e-01  1.71790536e-01 -3.59160496e-01  7.38412503e-01\n",
      "   3.58898650e-01]\n",
      " [-9.94097652e-02 -1.74332402e-01 -9.92973136e-01 -4.18801121e-01\n",
      "  -9.05471321e-01]\n",
      " [ 5.52054811e-01  1.13360627e-01 -1.23065288e+00 -5.01459237e-01\n",
      "  -9.20568276e-01]\n",
      " [ 8.45498613e-01 -1.19041863e+00 -2.02291868e+00 -8.81686571e-02\n",
      "  -4.61998271e-01]\n",
      " [ 1.38693309e+00  1.59936197e+00  9.87691364e-01  7.38412503e-01\n",
      "  -8.44139942e-01]\n",
      " [ 1.38465213e+00 -7.76952740e-01  6.70785044e-01  1.97828424e+00\n",
      "  -7.21477184e-01]\n",
      " [ 1.00704829e-06  4.18384561e-01  3.53878724e-01  7.71475750e-02\n",
      "  -6.61089364e-01]\n",
      " [ 1.32623829e+00  2.02520707e+00  1.95425564e-01  4.90438155e-01\n",
      "  -1.17627295e+00]\n",
      " [ 1.07258297e+00 -1.31817216e+00  1.30459768e+00 -2.65057025e+00\n",
      "  -6.26177656e-01]]\n"
     ]
    }
   ],
   "source": [
    "#std = np.std(y,axis=0)\n",
    "print(std)\n",
    "print(u)\n",
    "X1 = (X1-u)/std\n",
    "print(X1)"
   ]
  },
  {
   "cell_type": "code",
   "execution_count": 484,
   "metadata": {},
   "outputs": [
    {
     "data": {
      "text/html": [
       "<div>\n",
       "<style scoped>\n",
       "    .dataframe tbody tr th:only-of-type {\n",
       "        vertical-align: middle;\n",
       "    }\n",
       "\n",
       "    .dataframe tbody tr th {\n",
       "        vertical-align: top;\n",
       "    }\n",
       "\n",
       "    .dataframe thead th {\n",
       "        text-align: right;\n",
       "    }\n",
       "</style>\n",
       "<table border=\"1\" class=\"dataframe\">\n",
       "  <thead>\n",
       "    <tr style=\"text-align: right;\">\n",
       "      <th></th>\n",
       "      <th>0</th>\n",
       "      <th>1</th>\n",
       "      <th>2</th>\n",
       "      <th>3</th>\n",
       "      <th>4</th>\n",
       "    </tr>\n",
       "  </thead>\n",
       "  <tbody>\n",
       "    <tr>\n",
       "      <th>0</th>\n",
       "      <td>-1.163215</td>\n",
       "      <td>0.640715</td>\n",
       "      <td>0.908465</td>\n",
       "      <td>-0.088169</td>\n",
       "      <td>-0.162418</td>\n",
       "    </tr>\n",
       "    <tr>\n",
       "      <th>1</th>\n",
       "      <td>-0.952581</td>\n",
       "      <td>-0.129272</td>\n",
       "      <td>-0.913747</td>\n",
       "      <td>0.862400</td>\n",
       "      <td>0.703298</td>\n",
       "    </tr>\n",
       "    <tr>\n",
       "      <th>2</th>\n",
       "      <td>-1.469469</td>\n",
       "      <td>-0.846276</td>\n",
       "      <td>0.353879</td>\n",
       "      <td>0.325122</td>\n",
       "      <td>0.613660</td>\n",
       "    </tr>\n",
       "    <tr>\n",
       "      <th>3</th>\n",
       "      <td>-1.433411</td>\n",
       "      <td>0.198530</td>\n",
       "      <td>1.463051</td>\n",
       "      <td>-0.501459</td>\n",
       "      <td>0.816525</td>\n",
       "    </tr>\n",
       "    <tr>\n",
       "      <th>4</th>\n",
       "      <td>-0.656660</td>\n",
       "      <td>-1.566747</td>\n",
       "      <td>0.274652</td>\n",
       "      <td>-1.080066</td>\n",
       "      <td>1.868594</td>\n",
       "    </tr>\n",
       "  </tbody>\n",
       "</table>\n",
       "</div>"
      ],
      "text/plain": [
       "          0         1         2         3         4\n",
       "0 -1.163215  0.640715  0.908465 -0.088169 -0.162418\n",
       "1 -0.952581 -0.129272 -0.913747  0.862400  0.703298\n",
       "2 -1.469469 -0.846276  0.353879  0.325122  0.613660\n",
       "3 -1.433411  0.198530  1.463051 -0.501459  0.816525\n",
       "4 -0.656660 -1.566747  0.274652 -1.080066  1.868594"
      ]
     },
     "execution_count": 484,
     "metadata": {},
     "output_type": "execute_result"
    }
   ],
   "source": [
    "# Normalised Data\n",
    "pd.DataFrame(X1[:5,:]).head()"
   ]
  },
  {
   "cell_type": "code",
   "execution_count": 485,
   "metadata": {},
   "outputs": [
    {
     "data": {
      "image/png": "[encoded data removed]",
      "text/plain": [
       "<Figure size 576x396 with 1 Axes>"
      ]
     },
     "metadata": {},
     "output_type": "display_data"
    }
   ],
   "source": [
    "# Plot Y vs any feature\n",
    "import matplotlib.pyplot as plt\n",
    "\n",
    "plt.style.use('seaborn')\n",
    "plt.scatter(X1[:,4],y1)\n",
    "plt.show()"
   ]
  },
  {
   "cell_type": "code",
   "execution_count": 486,
   "metadata": {},
   "outputs": [
    {
     "data": {
      "text/plain": [
       "((15, 5), (15,))"
      ]
     },
     "execution_count": 486,
     "metadata": {},
     "output_type": "execute_result"
    }
   ],
   "source": [
    "X1.shape, y1.shape"
   ]
  },
  {
   "cell_type": "code",
   "execution_count": 487,
   "metadata": {
    "scrolled": true
   },
   "outputs": [
    {
     "name": "stdout",
     "output_type": "stream",
     "text": [
      "(15, 6)\n"
     ]
    }
   ],
   "source": [
    "ones = np.ones((X1.shape[0],1))\n",
    "X1 = np.hstack((ones,X1))\n",
    "print(X1.shape)"
   ]
  },
  {
   "cell_type": "code",
   "execution_count": 488,
   "metadata": {},
   "outputs": [],
   "source": [
    "def hypothesis(X1,theta1):\n",
    "    return np.dot(X1,theta1)\n",
    "\n",
    "def error(X1,y1,theta1):\n",
    "    e = 0.0\n",
    "    y1_ = hy1pothesis(X1,theta1)\n",
    "    e = np.sum((y1-y1_)**2)\n",
    "    \n",
    "    return e/m\n",
    "    \n",
    "def gradient(X1,y1,theta1):\n",
    "    \n",
    "    y1_ = hy1pothesis(X1,theta1)\n",
    "    grad = np.dot(X1.T,(y1_ - y1))\n",
    "    m = X1.shape[0]\n",
    "    return grad/m\n",
    "\n",
    "def gradient_descent(X1,y1,learning_rate = 0.1,maX1_iters=300):\n",
    "    \n",
    "    n = X1.shape[1]\n",
    "    theta1 = np.zeros((n,))\n",
    "    error_list = []\n",
    "    \n",
    "    for i in range(maX1_iters):\n",
    "        e = error(X1,y1,theta1)\n",
    "        error_list.append(e)\n",
    "        \n",
    "        #Gradient descent\n",
    "        grad = gradient(X1,y1,theta1)\n",
    "        theta1 = theta1 - learning_rate*grad\n",
    "        \n",
    "    return theta1,error_list\n",
    "    \n"
   ]
  },
  {
   "cell_type": "code",
   "execution_count": 489,
   "metadata": {},
   "outputs": [
    {
     "name": "stdout",
     "output_type": "stream",
     "text": [
      "Time taken by Vectorized Code 0.0163114070892334\n"
     ]
    }
   ],
   "source": [
    "start = time.time()\n",
    "theta1,error_list = gradient_descent(X1,y1)\n",
    "end = time.time()\n",
    "print(\"Time taken by Vectorized Code\",end-start)"
   ]
  },
  {
   "cell_type": "code",
   "execution_count": 490,
   "metadata": {},
   "outputs": [
    {
     "data": {
      "text/plain": [
       "array([318253.46666666, 126373.72969872,  58632.72692617, -32494.56584523,\n",
       "       -78956.17352706, -39953.0049717 ])"
      ]
     },
     "execution_count": 490,
     "metadata": {},
     "output_type": "execute_result"
    }
   ],
   "source": [
    "theta"
   ]
  },
  {
   "cell_type": "code",
   "execution_count": 491,
   "metadata": {},
   "outputs": [
    {
     "data": {
      "image/png": "[encoded data removed]",
      "text/plain": [
       "<Figure size 576x396 with 1 Axes>"
      ]
     },
     "metadata": {},
     "output_type": "display_data"
    }
   ],
   "source": [
    "plt.plot(error_list)\n",
    "plt.show()"
   ]
  },
  {
   "cell_type": "code",
   "execution_count": 494,
   "metadata": {},
   "outputs": [
    {
     "name": "stdout",
     "output_type": "stream",
     "text": [
      "95.84860331037753\n",
      "[192750.87817268 123793.82332371  21244.65831554 108177.72680279\n",
      " 145103.48991576 255679.52780662 216901.60986503 396978.56487303\n",
      " 511027.6371584  446458.33279328 530629.42752045 298512.82125684\n",
      " 351606.71548333 606520.80939499 568415.97731748]\n"
     ]
    }
   ],
   "source": [
    "## Predictions\n",
    "y1_ = hypothesis(X1,theta1)\n",
    "print(r2_score(y1,y1_))\n",
    "print(y1_)"
   ]
  },
  {
   "cell_type": "code",
   "execution_count": 495,
   "metadata": {},
   "outputs": [
    {
     "name": "stdout",
     "output_type": "stream",
     "text": [
      "(15,)\n",
      "(15,)\n",
      "[166048. 103729.  71087. 106829. 124843. 269559. 223276. 452000. 425947.\n",
      " 461320. 502640. 293364. 318254. 669212. 585694.]\n"
     ]
    }
   ],
   "source": [
    "print(y1_.shape)\n",
    "print(y1.shape)\n",
    "print(y1)"
   ]
  },
  {
   "cell_type": "code",
   "execution_count": 496,
   "metadata": {},
   "outputs": [],
   "source": [
    "## drychillies"
   ]
  },
  {
   "cell_type": "code",
   "execution_count": 497,
   "metadata": {},
   "outputs": [],
   "source": [
    "y2 = X[15:41,-1]\n",
    "X2 = X[15:41,:5]"
   ]
  },
  {
   "cell_type": "code",
   "execution_count": 498,
   "metadata": {},
   "outputs": [
    {
     "name": "stdout",
     "output_type": "stream",
     "text": [
      "(26, 5)\n",
      "(26,)\n",
      "[[9.9210e+03 1.9710e+02 2.8700e+01 7.2000e+01 4.0250e+00]\n",
      " [2.0420e+03 8.1800e+00 2.4100e+01 6.4000e+01 4.7100e+00]\n",
      " [6.9890e+03 1.6600e+02 2.6400e+01 7.4300e+01 5.8600e+00]\n",
      " [2.3240e+03 1.0980e+01 2.4100e+01 6.0100e+01 6.0700e+00]\n",
      " [9.4300e+03 1.3704e+02 2.8000e+01 7.3000e+01 5.6700e+00]\n",
      " [1.5770e+03 7.3000e+00 2.4600e+01 6.4000e+01 6.4700e+00]\n",
      " [1.0138e+04 1.7924e+02 2.9400e+01 7.1000e+01 6.1000e+00]\n",
      " [2.0520e+03 1.4850e+01 2.3900e+01 6.2100e+01 6.6300e+00]\n",
      " [9.4110e+03 1.0794e+02 2.7900e+01 6.9600e+01 8.3300e+00]\n",
      " [7.4000e+02 1.4850e+01 2.3800e+01 6.5200e+01 1.0140e+01]\n",
      " [4.6360e+03 2.0494e+02 2.6300e+01 7.2500e+01 8.8600e+00]\n",
      " [5.7600e+02 1.3680e+01 2.4800e+01 5.9800e+01 5.9600e+00]\n",
      " [6.3770e+03 1.7816e+02 2.7100e+01 7.4000e+01 5.1300e+00]\n",
      " [4.4600e+02 7.9400e+00 2.4100e+01 6.3800e+01 4.4200e+00]\n",
      " [6.0000e+03 1.6418e+02 2.6300e+01 7.1200e+01 2.4500e+00]\n",
      " [5.5170e+03 1.7580e+02 2.6000e+01 7.1000e+01 2.4180e+00]\n",
      " [3.8100e+03 1.2314e+02 2.5000e+01 7.2000e+01 3.3900e+00]\n",
      " [3.7720e+03 2.3582e+02 2.8800e+01 7.4000e+01 2.5800e+00]\n",
      " [5.0010e+03 1.3984e+02 2.8400e+01 7.7000e+01 2.8400e+00]\n",
      " [1.2800e+02 9.8300e+00 2.4900e+01 5.9000e+01 3.6500e+00]\n",
      " [6.3950e+03 1.8812e+02 2.8000e+01 7.2400e+01 2.9680e+00]\n",
      " [1.0400e+03 2.5650e+01 2.4700e+01 6.3800e+01 3.4820e+00]\n",
      " [4.5930e+03 2.5302e+02 2.7800e+01 7.3400e+01 1.8760e+00]\n",
      " [9.2000e+01 1.6100e+01 2.4200e+01 6.3200e+01 2.6320e+00]\n",
      " [3.9230e+03 1.1798e+02 2.9200e+01 6.5800e+01 3.0420e+00]\n",
      " [4.1500e+02 1.4400e+01 2.4800e+01 6.8200e+01 5.0640e+00]]\n",
      "[21856.  4721. 13230.  6403. 12985.  3920. 17133.  6696. 13062.  2214.\n",
      "  6908.  1731. 11530.  1456. 13000. 10852.  4119.  5798.  8527.   417.\n",
      " 11509.  2967. 12291.   404.  9835.  1702.]\n"
     ]
    }
   ],
   "source": [
    "print(X2.shape)\n",
    "print(y2.shape)\n",
    "print(X2)\n",
    "print(y2)\n",
    " "
   ]
  },
  {
   "cell_type": "code",
   "execution_count": 499,
   "metadata": {},
   "outputs": [
    {
     "name": "stdout",
     "output_type": "stream",
     "text": [
      "[[ 1.82222931  1.10457424  1.3411238   0.71115521 -0.36667342]\n",
      " [-0.65644589 -1.14435232 -1.13034625 -0.83612809 -0.04204979]\n",
      " [ 0.89984377  0.73435607  0.10538877  1.15599916  0.5029388 ]\n",
      " [-0.56773077 -1.11102078 -1.13034625 -1.5904287   0.60245845]\n",
      " [ 1.66776434  0.38961273  0.96503053  0.90456562  0.41289721]\n",
      " [-0.80273145 -1.15482795 -0.8617082  -0.83612809  0.7920197 ]\n",
      " [ 1.89049591  0.89196664  1.71721707  0.5177448   0.61667555]\n",
      " [-0.65329996 -1.06495183 -1.23780147 -1.20360788  0.8678442 ]\n",
      " [ 1.66178708  0.0432028   0.91130292  0.24697022  1.6734795 ]\n",
      " [-1.06604547 -1.06495183 -1.29152908 -0.6040356   2.53124415]\n",
      " [ 0.15960735  1.19790255  0.05166116  0.80786042  1.92464815]\n",
      " [-1.11763866 -1.07887965 -0.75425298 -1.64845183  0.55032911]\n",
      " [ 0.70731309  0.87911019  0.48148204  1.09797604  0.15698952]\n",
      " [-1.1585357  -1.14720931 -1.13034625 -0.87481017 -0.17948169]\n",
      " [ 0.58871168  0.71269057  0.05166116  0.55642688 -1.11307084]\n",
      " [ 0.43676344  0.85101646 -0.10952167  0.5177448  -1.12823574]\n",
      " [-0.10024615  0.22414544 -0.64679776  0.71115521 -0.66760191]\n",
      " [-0.11220067  1.56550181  1.39485141  1.09797604 -1.05146343]\n",
      " [ 0.27443366  0.42294427  1.17994097  1.67820727 -0.92824862]\n",
      " [-1.25857615 -1.12471052 -0.70052537 -1.80318016 -0.54438709]\n",
      " [ 0.71297576  0.99767523  0.96503053  0.78851938 -0.86758902]\n",
      " [-0.97166768 -0.93638732 -0.80798059 -0.87481017 -0.62400282]\n",
      " [ 0.14607987  1.77025269  0.85757531  0.98192979 -1.38509123]\n",
      " [-1.26990148 -1.05007168 -1.07661864 -0.99085642 -1.02682047]\n",
      " [-0.06469718  0.16272018  1.60976185 -0.48798935 -0.83252019]\n",
      " [-1.16828807 -1.07030869 -0.75425298 -0.02380436  0.12571192]]\n"
     ]
    }
   ],
   "source": [
    "u = np.mean(X2,axis=0)\n",
    "std = np.std(X2,axis=0)\n",
    "#print(std)\n",
    "#print(u)\n",
    "X2 = (X2-u)/std\n",
    "print(X2)"
   ]
  },
  {
   "cell_type": "code",
   "execution_count": 500,
   "metadata": {},
   "outputs": [
    {
     "data": {
      "text/plain": [
       "((26, 5), (26,))"
      ]
     },
     "execution_count": 500,
     "metadata": {},
     "output_type": "execute_result"
    }
   ],
   "source": [
    "X2.shape, y2.shape"
   ]
  },
  {
   "cell_type": "code",
   "execution_count": 501,
   "metadata": {},
   "outputs": [
    {
     "name": "stdout",
     "output_type": "stream",
     "text": [
      "(26, 6)\n"
     ]
    }
   ],
   "source": [
    "ones = np.ones((X2.shape[0],1))\n",
    "X2 = np.hstack((ones,X2))\n",
    "print(X2.shape)"
   ]
  },
  {
   "cell_type": "code",
   "execution_count": 502,
   "metadata": {},
   "outputs": [],
   "source": [
    "def hypothesis(X2,theta2):\n",
    "    return np.dot(X2,theta2)\n",
    "\n",
    "def error(X2,y2,theta2):\n",
    "    e = 0.0\n",
    "    y2_ = hy2pothesis(X2,theta2)\n",
    "    e = np.sum((y2-y2_)**2)\n",
    "    \n",
    "    return e/m\n",
    "    \n",
    "def gradient(X2,y2,theta2):\n",
    "    \n",
    "    y2_ = hy2pothesis(X2,theta2)\n",
    "    grad = np.dot(X2.T,(y2_ - y2))\n",
    "    m = X2.shape[0]\n",
    "    return grad/m\n",
    "\n",
    "def gradient_descent(X2,y2,learning_rate = 0.1,maX2_iters=300):\n",
    "    \n",
    "    n = X2.shape[1]\n",
    "    theta2 = np.zeros((n,))\n",
    "    error_list = []\n",
    "    \n",
    "    for i in range(maX2_iters):\n",
    "        e = error(X2,y2,theta2)\n",
    "        error_list.append(e)\n",
    "        \n",
    "        #Gradient descent\n",
    "        grad = gradient(X2,y2,theta2)\n",
    "        theta2 = theta2 - learning_rate*grad\n",
    "        \n",
    "    return theta2,error_list\n",
    "    \n"
   ]
  },
  {
   "cell_type": "code",
   "execution_count": 503,
   "metadata": {},
   "outputs": [
    {
     "name": "stdout",
     "output_type": "stream",
     "text": [
      "Time taken by Vectorized Code 0.015633583068847656\n"
     ]
    }
   ],
   "source": [
    "start = time.time()\n",
    "theta2,error_list = gradient_descent(X2,y2)\n",
    "end = time.time()\n",
    "print(\"Time taken by Vectorized Code\",end-start)"
   ]
  },
  {
   "cell_type": "code",
   "execution_count": 504,
   "metadata": {},
   "outputs": [
    {
     "data": {
      "text/plain": [
       "array([ 7894.84615385,  5380.23412234,  1354.81149673,  -310.44685421,\n",
       "       -1382.46116037,  -507.58995395])"
      ]
     },
     "execution_count": 504,
     "metadata": {},
     "output_type": "execute_result"
    }
   ],
   "source": [
    "theta2"
   ]
  },
  {
   "cell_type": "code",
   "execution_count": 505,
   "metadata": {},
   "outputs": [
    {
     "data": {
      "image/png": "[encoded data removed]",
      "text/plain": [
       "<Figure size 576x396 with 1 Axes>"
      ]
     },
     "metadata": {},
     "output_type": "display_data"
    }
   ],
   "source": [
    "plt.plot(error_list)\n",
    "plt.show()"
   ]
  },
  {
   "cell_type": "code",
   "execution_count": 506,
   "metadata": {},
   "outputs": [
    {
     "name": "stdout",
     "output_type": "stream",
     "text": [
      "90.54815161022289\n",
      "[17981.98398227  4340.80302149 11845.00213121  5578.91446036\n",
      " 15635.96055348  3032.79680286 17712.71838468  4544.83415058\n",
      " 15420.40211156   667.63575895  8266.69746064  2653.7445222\n",
      " 11144.31465822  1758.80714064 11807.52116515 11288.62233428\n",
      "  7215.69313605  7994.91597457  7729.17756576  2586.26892882\n",
      " 12133.17590272  3175.38189757 10158.4957957   1865.08683288\n",
      "  8364.67504845   362.37027892]\n",
      "[21856.  4721. 13230.  6403. 12985.  3920. 17133.  6696. 13062.  2214.\n",
      "  6908.  1731. 11530.  1456. 13000. 10852.  4119.  5798.  8527.   417.\n",
      " 11509.  2967. 12291.   404.  9835.  1702.]\n"
     ]
    }
   ],
   "source": [
    "## Predictions\n",
    "y2_ = hypothesis(X2,theta2)\n",
    "print(r2_score(y2,y2_))\n",
    "print(y2_)\n",
    "print(y2)"
   ]
  },
  {
   "cell_type": "code",
   "execution_count": 507,
   "metadata": {},
   "outputs": [
    {
     "name": "stdout",
     "output_type": "stream",
     "text": [
      "(26,)\n",
      "(26,)\n"
     ]
    }
   ],
   "source": [
    "print(y2_.shape)\n",
    "print(y2.shape)"
   ]
  },
  {
   "cell_type": "code",
   "execution_count": 508,
   "metadata": {},
   "outputs": [],
   "source": [
    "## ground nut"
   ]
  },
  {
   "cell_type": "code",
   "execution_count": 509,
   "metadata": {},
   "outputs": [
    {
     "name": "stdout",
     "output_type": "stream",
     "text": [
      "(29, 5)\n",
      "(29,)\n",
      "[[5.5370e+03 1.9710e+02 2.8700e+01 7.2000e+01 4.0250e+00]\n",
      " [1.6415e+04 8.1800e+00 2.4100e+01 6.4000e+01 4.7100e+00]\n",
      " [4.9670e+03 1.6600e+02 2.6400e+01 7.4300e+01 5.8600e+00]\n",
      " [1.4243e+04 1.0980e+01 2.4100e+01 6.0100e+01 6.0700e+00]\n",
      " [3.3830e+03 1.3704e+02 2.8000e+01 7.3000e+01 5.6700e+00]\n",
      " [1.1852e+04 7.3000e+00 2.4600e+01 6.4000e+01 6.4700e+00]\n",
      " [2.2240e+03 1.7924e+02 2.9400e+01 7.1000e+01 6.1000e+00]\n",
      " [1.4564e+04 1.4850e+01 2.3900e+01 6.2100e+01 6.6300e+00]\n",
      " [1.3220e+03 1.0794e+02 2.7900e+01 6.9600e+01 8.3300e+00]\n",
      " [1.6453e+04 1.4850e+01 2.3800e+01 6.5200e+01 1.0140e+01]\n",
      " [4.7400e+02 2.0494e+02 2.6300e+01 7.2500e+01 8.8600e+00]\n",
      " [1.3631e+04 1.3680e+01 2.4800e+01 5.9800e+01 5.9600e+00]\n",
      " [4.9900e+02 1.7816e+02 2.7100e+01 7.4000e+01 5.1300e+00]\n",
      " [1.3016e+04 7.9400e+00 2.4100e+01 6.3800e+01 4.4200e+00]\n",
      " [1.5000e+04 2.8280e+01 2.4500e+01 6.4300e+01 2.7000e+00]\n",
      " [6.2300e+02 1.7580e+02 2.6000e+01 7.1000e+01 2.4180e+00]\n",
      " [1.6157e+04 2.5000e+00 2.4100e+01 6.5300e+01 3.0220e+00]\n",
      " [4.3200e+02 1.2314e+02 2.5000e+01 7.2000e+01 3.3900e+00]\n",
      " [1.3542e+04 9.5800e+00 2.4600e+01 6.4600e+01 3.9800e+00]\n",
      " [2.4900e+02 2.3582e+02 2.8800e+01 7.4000e+01 2.5800e+00]\n",
      " [1.0502e+04 1.2860e+01 2.4600e+01 6.3000e+01 2.5920e+00]\n",
      " [1.7300e+02 1.3984e+02 2.8400e+01 7.7000e+01 2.8400e+00]\n",
      " [7.7470e+03 9.8300e+00 2.4900e+01 5.9000e+01 3.6500e+00]\n",
      " [1.5420e+03 1.8812e+02 2.8000e+01 7.2400e+01 2.9680e+00]\n",
      " [1.2932e+04 2.5650e+01 2.4700e+01 6.3800e+01 3.4820e+00]\n",
      " [1.3300e+02 2.5302e+02 2.7800e+01 7.3400e+01 1.8760e+00]\n",
      " [1.0886e+04 1.6100e+01 2.4200e+01 6.3200e+01 2.6320e+00]\n",
      " [2.5000e+01 1.1798e+02 2.9200e+01 6.5800e+01 3.0420e+00]\n",
      " [6.9470e+03 1.4400e+01 2.4800e+01 6.8200e+01 5.0640e+00]]\n",
      "[3.2950e+03 3.1468e+04 2.9650e+03 2.7888e+04 1.6850e+03 1.9485e+04\n",
      " 1.0990e+03 3.0657e+04 1.1330e+03 1.6766e+04 4.1900e+02 2.5585e+04\n",
      " 3.4100e+02 2.4626e+04 2.3000e+04 6.7700e+02 2.9567e+04 6.1800e+02\n",
      " 2.0733e+04 1.5700e+02 1.5480e+04 1.9500e+02 1.2558e+04 9.8200e+02\n",
      " 2.2072e+04 1.5200e+02 1.6471e+04 1.9000e+01 1.4366e+04]\n"
     ]
    }
   ],
   "source": [
    "y3 = X[41:70,-1]\n",
    "X3 = X[41:70,:5]\n",
    "print(X3.shape)\n",
    "print(y3.shape)\n",
    "print(X3)\n",
    "print(y3)\n",
    " "
   ]
  },
  {
   "cell_type": "code",
   "execution_count": 510,
   "metadata": {},
   "outputs": [
    {
     "name": "stdout",
     "output_type": "stream",
     "text": [
      "[6.16056452e+03 8.45227322e+01 1.86427711e+00 5.05787903e+00\n",
      " 2.05644349e+00]\n",
      "[7.43000000e+03 8.96937931e+01 2.59586207e+01 6.76689655e+01\n",
      " 4.64175862e+00]\n",
      "[[-0.30727704  1.27073752  1.47047845  0.8562946  -0.29991518]\n",
      " [ 1.45847024 -0.96440083 -0.99696589 -0.72539606  0.03318417]\n",
      " [-0.39980102  0.90278917  0.23675628  1.31103066  0.59240207]\n",
      " [ 1.10590515 -0.93127365 -0.99696589 -1.49647025  0.69452012]\n",
      " [-0.65692032  0.56015945  1.09499779  1.05400593  0.50000955]\n",
      " [ 0.71779136 -0.97481223 -0.72876542 -0.72539606  0.88903069]\n",
      " [-0.84505243  1.05943342  1.84595911  0.65858326  0.70910841]\n",
      " [ 1.15801076 -0.88548715 -1.10424608 -1.10104759  0.96683492]\n",
      " [-0.99146758  0.21587337  1.04135769  0.3817874   1.79350485]\n",
      " [ 1.4646385  -0.88548715 -1.15788618 -0.48814246  2.67366519]\n",
      " [-1.1291173   1.36349363  0.18311618  0.95515026  2.05123136]\n",
      " [ 1.0065636  -0.89932958 -0.62148523 -1.55578365  0.64102971]\n",
      " [-1.12505923  1.04665579  0.61223694  1.25171726  0.23742027]\n",
      " [ 0.90673509 -0.9672403  -0.99696589 -0.76493833 -0.10783599]\n",
      " [ 1.2287835  -0.72659498 -0.78240551 -0.66608266 -0.94423145]\n",
      " [-1.10493121  1.01873431  0.0221959   0.65858326 -1.0813614 ]\n",
      " [ 1.41659096 -1.03160169 -0.99696589 -0.46837133 -0.78765044]\n",
      " [-1.13593486  0.39570665 -0.51420504  0.8562946  -0.60870071]\n",
      " [ 0.99211687 -0.94783724 -0.72876542 -0.60676926 -0.32179762]\n",
      " [-1.16563993  1.72883913  1.52411854  1.25171726 -1.00258462]\n",
      " [ 0.4986556  -0.90903111 -0.72876542 -0.92310739 -0.9967493 ]\n",
      " [-1.17797646  0.59328663  1.30955817  1.84485126 -0.87615275]\n",
      " [ 0.05145632 -0.94487946 -0.56784514 -1.71395272 -0.48226884]\n",
      " [-0.95575657  1.16449391  1.09499779  0.93537913 -0.81390937]\n",
      " [ 0.89309997 -0.75771087 -0.67512533 -0.76493833 -0.56396328]\n",
      " [-1.18446937  1.93233468  0.9877176   1.13309046 -1.34492323]\n",
      " [ 0.56098755 -0.87069823 -0.9433258  -0.88356512 -0.97729825]\n",
      " [-1.20200024  0.33465798  1.73867892 -0.36951566 -0.77792491]\n",
      " [-0.07840191 -0.89081116 -0.62148523  0.10499153  0.20532603]]\n"
     ]
    }
   ],
   "source": [
    "u = np.mean(X3,axis=0)\n",
    "std = np.std(X3,axis=0)\n",
    "print(std)\n",
    "print(u)\n",
    "X3 = (X3-u)/std\n",
    "print(X3)"
   ]
  },
  {
   "cell_type": "code",
   "execution_count": 511,
   "metadata": {},
   "outputs": [
    {
     "name": "stdout",
     "output_type": "stream",
     "text": [
      "(29, 5) (29,)\n",
      "(29, 6)\n"
     ]
    }
   ],
   "source": [
    "print(X3.shape, y3.shape)\n",
    "ones = np.ones((X3.shape[0],1))\n",
    "X3 = np.hstack((ones,X3))\n",
    "print(X3.shape)"
   ]
  },
  {
   "cell_type": "code",
   "execution_count": 512,
   "metadata": {},
   "outputs": [],
   "source": [
    "def hypothesis(X3,theta3):\n",
    "    return np.dot(X3,theta3)\n",
    "\n",
    "def error(X3,y3,theta3):\n",
    "    e = 0.0\n",
    "    y3_ = hy3pothesis(X3,theta3)\n",
    "    e = np.sum((y3-y3_)**2)\n",
    "    \n",
    "    return e/m\n",
    "    \n",
    "def gradient(X3,y3,theta3):\n",
    "    \n",
    "    y3_ = hy3pothesis(X3,theta3)\n",
    "    grad = np.dot(X3.T,(y3_ - y3))\n",
    "    m = X3.shape[0]\n",
    "    return grad/m\n",
    "\n",
    "def gradient_descent(X3,y3,learning_rate = 0.1,maX3_iters=300):\n",
    "    \n",
    "    n = X3.shape[1]\n",
    "    theta3 = np.zeros((n,))\n",
    "    error_list = []\n",
    "    \n",
    "    for i in range(maX3_iters):\n",
    "        e = error(X3,y3,theta3)\n",
    "        error_list.append(e)\n",
    "        \n",
    "        #Gradient descent\n",
    "        grad = gradient(X3,y3,theta3)\n",
    "        theta3 = theta3 - learning_rate*grad\n",
    "        \n",
    "    return theta3,error_list\n",
    "    \n"
   ]
  },
  {
   "cell_type": "code",
   "execution_count": 514,
   "metadata": {},
   "outputs": [
    {
     "name": "stdout",
     "output_type": "stream",
     "text": [
      "Time taken by Vectorized Code 0.01337885856628418\n"
     ]
    },
    {
     "data": {
      "image/png": "[encoded data removed]",
      "text/plain": [
       "<Figure size 576x396 with 1 Axes>"
      ]
     },
     "metadata": {},
     "output_type": "display_data"
    },
    {
     "name": "stdout",
     "output_type": "stream",
     "text": [
      "93.49359524373857\n",
      "[ 6205.03339388 26980.57709675  5563.58446839 24480.44561858\n",
      "  2992.96748855 19642.8289926    768.09801239 24290.73951784\n",
      "   272.37755109 24962.16894914 -1475.23463404 23333.1401107\n",
      "  -869.20321122 22327.99546523 25275.76400755  1679.97973085\n",
      " 26875.27425509  1608.84111239 22722.68386228 -1558.27590961\n",
      " 19320.95055363 -1886.98054702 15989.47677919  1242.34044393\n",
      " 22116.6139131   -844.03483451 20002.29233688   530.82718051\n",
      " 11907.72829585]\n",
      "(29,)\n",
      "(29,)\n",
      "[3.2950e+03 3.1468e+04 2.9650e+03 2.7888e+04 1.6850e+03 1.9485e+04\n",
      " 1.0990e+03 3.0657e+04 1.1330e+03 1.6766e+04 4.1900e+02 2.5585e+04\n",
      " 3.4100e+02 2.4626e+04 2.3000e+04 6.7700e+02 2.9567e+04 6.1800e+02\n",
      " 2.0733e+04 1.5700e+02 1.5480e+04 1.9500e+02 1.2558e+04 9.8200e+02\n",
      " 2.2072e+04 1.5200e+02 1.6471e+04 1.9000e+01 1.4366e+04]\n"
     ]
    }
   ],
   "source": [
    "start = time.time()\n",
    "theta3,error_list = gradient_descent(X3,y3)\n",
    "end = time.time()\n",
    "print(\"Time taken by Vectorized Code\",end-start)\n",
    "theta3\n",
    "plt.plot(error_list)\n",
    "plt.show()\n",
    "## Predictions\n",
    "y3_ = hypothesis(X3,theta3)\n",
    "print(r2_score(y3,y3_))\n",
    "print(y3_)\n",
    "print(y3_.shape)\n",
    "print(y3.shape)\n",
    "print(y3)"
   ]
  },
  {
   "cell_type": "code",
   "execution_count": 515,
   "metadata": {},
   "outputs": [],
   "source": [
    "##jowar"
   ]
  },
  {
   "cell_type": "code",
   "execution_count": 516,
   "metadata": {},
   "outputs": [
    {
     "name": "stdout",
     "output_type": "stream",
     "text": [
      "(24, 5)\n",
      "(24,)\n",
      "[[2.0200e+02 1.9710e+02 2.8700e+01 7.2000e+01 4.0250e+00]\n",
      " [1.3230e+03 8.1800e+00 2.4100e+01 6.4000e+01 4.7100e+00]\n",
      " [1.0540e+03 1.6600e+02 2.6400e+01 7.4300e+01 5.8600e+00]\n",
      " [1.0700e+03 1.0980e+01 2.4100e+01 6.0100e+01 6.0700e+00]\n",
      " [2.2900e+02 1.3704e+02 2.8000e+01 7.3000e+01 5.6700e+00]\n",
      " [1.5540e+03 7.3000e+00 2.4600e+01 6.4000e+01 6.4700e+00]\n",
      " [1.0440e+03 1.7924e+02 2.9400e+01 7.1000e+01 6.1000e+00]\n",
      " [1.0230e+03 1.4850e+01 2.3900e+01 6.2100e+01 6.6300e+00]\n",
      " [1.4500e+02 1.0794e+02 2.7900e+01 6.9600e+01 8.3300e+00]\n",
      " [2.4110e+03 1.4850e+01 2.3800e+01 6.5200e+01 1.0140e+01]\n",
      " [2.5800e+02 2.0494e+02 2.6300e+01 7.2500e+01 8.8600e+00]\n",
      " [1.6640e+03 1.3680e+01 2.4800e+01 5.9800e+01 5.9600e+00]\n",
      " [3.7000e+01 1.7816e+02 2.7100e+01 7.4000e+01 5.1300e+00]\n",
      " [3.4700e+02 7.9400e+00 2.4100e+01 6.3800e+01 4.4200e+00]\n",
      " [9.5600e+02 9.5800e+00 2.4600e+01 6.4600e+01 3.9800e+00]\n",
      " [1.6000e+01 2.3582e+02 2.8800e+01 7.4000e+01 2.5800e+00]\n",
      " [2.3900e+02 1.2860e+01 2.4600e+01 6.3000e+01 2.5920e+00]\n",
      " [2.3300e+02 9.8300e+00 2.4900e+01 5.9000e+01 3.6500e+00]\n",
      " [3.1200e+02 1.8812e+02 2.8000e+01 7.2400e+01 2.9680e+00]\n",
      " [1.0180e+03 2.5650e+01 2.4700e+01 6.3800e+01 3.4820e+00]\n",
      " [1.2400e+02 2.5302e+02 2.7800e+01 7.3400e+01 1.8760e+00]\n",
      " [1.2400e+02 1.6100e+01 2.4200e+01 6.3200e+01 2.6320e+00]\n",
      " [4.0000e+00 1.1798e+02 2.9200e+01 6.5800e+01 3.0420e+00]\n",
      " [1.2710e+03 1.4400e+01 2.4800e+01 6.8200e+01 5.0640e+00]]\n",
      "[ 146. 1429. 1011. 1036.  225. 1248.  955.  948.  127. 2343.  310. 1354.\n",
      "   39.  327.  806.   15.  310.   48.  299.  920.  151.  151.    4. 1940.]\n"
     ]
    }
   ],
   "source": [
    "y4 = X[70:94,-1]\n",
    "X4 = X[70:94,:5]\n",
    "print(X4.shape)\n",
    "print(y4.shape)\n",
    "print(X4)\n",
    "print(y4)"
   ]
  },
  {
   "cell_type": "code",
   "execution_count": 517,
   "metadata": {},
   "outputs": [
    {
     "name": "stdout",
     "output_type": "stream",
     "text": [
      "[635.26221074  87.73496058   1.9169565    5.01132052   2.07396839]\n",
      "[694.08333333  88.815       26.03333333  67.2          5.01004167]\n",
      "[[-0.77461452  1.23422863  1.39109399  0.95783137 -0.47495501]\n",
      " [ 0.99001114 -0.9190749  -1.00854314 -0.63855425 -0.14467032]\n",
      " [ 0.56656395  0.87975192  0.19127542  1.41679224  0.40982222]\n",
      " [ 0.5917504  -0.8871606  -1.00854314 -1.41679224  0.51107738]\n",
      " [-0.73211239  0.54966686  1.02593182  1.15737957  0.31821041]\n",
      " [ 1.35364052 -0.92910511 -0.74771302 -0.63855425  0.70394435]\n",
      " [ 0.55082242  1.03066097  1.75625616  0.75828317  0.5255424 ]\n",
      " [ 0.5177652  -0.84305047 -1.11287519 -1.01769583  0.78109114]\n",
      " [-0.86434125  0.21798608  0.97376579  0.47891569  1.60077577]\n",
      " [ 2.70268975 -0.84305047 -1.16504122 -0.3990964   2.47349881]\n",
      " [-0.68646195  1.32358867  0.1391094   1.05760547  1.8563245 ]\n",
      " [ 1.52679736 -0.85638609 -0.64338097 -1.4766567   0.45803896]\n",
      " [-1.03434979  1.01835117  0.5564376   1.35692777  0.05784   ]\n",
      " [-0.54636232 -0.92181041 -1.00854314 -0.67846389 -0.28449887]\n",
      " [ 0.41229694 -0.90311775 -0.74771302 -0.51882533 -0.49665254]\n",
      " [-1.067407    1.67555783  1.44326001  1.35692777 -1.17168694]\n",
      " [-0.71637086 -0.86573242 -0.74771302 -0.83810245 -1.16590093]\n",
      " [-0.72581577 -0.90026826 -0.59121495 -1.63629526 -0.65576779]\n",
      " [-0.60145768  1.1318749   1.02593182  1.03765065 -0.98460598]\n",
      " [ 0.50989444 -0.71995245 -0.695547   -0.67846389 -0.73677192]\n",
      " [-0.89739847  1.87160282  0.92159977  1.23719885 -1.5111328 ]\n",
      " [-0.89739847 -0.82880302 -0.95637712 -0.79819281 -1.14661423]\n",
      " [-1.08629684  0.33242165  1.65192411 -0.27936748 -0.94892559]\n",
      " [ 0.90815518 -0.84817956 -0.64338097  0.1995482   0.02601695]]\n"
     ]
    }
   ],
   "source": [
    "u = np.mean(X4,axis=0)\n",
    "std = np.std(X4,axis=0)\n",
    "print(std)\n",
    "print(u)\n",
    "X4 = (X4-u)/std\n",
    "print(X4)"
   ]
  },
  {
   "cell_type": "code",
   "execution_count": 518,
   "metadata": {},
   "outputs": [
    {
     "data": {
      "text/plain": [
       "((24, 5), (24,))"
      ]
     },
     "execution_count": 518,
     "metadata": {},
     "output_type": "execute_result"
    }
   ],
   "source": [
    "X4.shape, y4.shape\n"
   ]
  },
  {
   "cell_type": "code",
   "execution_count": 519,
   "metadata": {},
   "outputs": [
    {
     "name": "stdout",
     "output_type": "stream",
     "text": [
      "(24, 6)\n"
     ]
    }
   ],
   "source": [
    "ones = np.ones((X4.shape[0],1))\n",
    "X4 = np.hstack((ones,X4))\n",
    "print(X4.shape)"
   ]
  },
  {
   "cell_type": "code",
   "execution_count": 520,
   "metadata": {},
   "outputs": [],
   "source": [
    "def hypothesis(X4,theta4):\n",
    "    return np.dot(X4,theta4)\n",
    "\n",
    "def error(X4,y4,theta4):\n",
    "    e = 0.0\n",
    "    y4_ = hy4pothesis(X4,theta4)\n",
    "    e = np.sum((y4-y4_)**2)\n",
    "    \n",
    "    return e/m\n",
    "    \n",
    "def gradient(X4,y4,theta4):\n",
    "    \n",
    "    y4_ = hy4pothesis(X4,theta4)\n",
    "    grad = np.dot(X4.T,(y4_ - y4))\n",
    "    m = X4.shape[0]\n",
    "    return grad/m\n",
    "\n",
    "def gradient_descent(X4,y4,learning_rate = 0.1,maX4_iters=300):\n",
    "    \n",
    "    n = X4.shape[1]\n",
    "    theta4 = np.zeros((n,))\n",
    "    error_list = []\n",
    "    \n",
    "    for i in range(maX4_iters):\n",
    "        e = error(X4,y4,theta4)\n",
    "        error_list.append(e)\n",
    "        \n",
    "        #Gradient descent\n",
    "        grad = gradient(X4,y4,theta4)\n",
    "        theta4 = theta4 - learning_rate*grad\n",
    "        \n",
    "    return theta4,error_list\n",
    "    \n"
   ]
  },
  {
   "cell_type": "code",
   "execution_count": 522,
   "metadata": {},
   "outputs": [
    {
     "name": "stdout",
     "output_type": "stream",
     "text": [
      "Time taken by Vectorized Code 0.013356924057006836\n"
     ]
    },
    {
     "data": {
      "image/png": "[encoded data removed]",
      "text/plain": [
       "<Figure size 576x396 with 1 Axes>"
      ]
     },
     "metadata": {},
     "output_type": "display_data"
    },
    {
     "name": "stdout",
     "output_type": "stream",
     "text": [
      "94.84434506802204\n",
      "[ 165.6303391  1330.34697751 1146.91007277  899.6237693   337.83608405\n",
      " 1518.86836374  920.12346488  926.70153911  134.22519964 2332.52061572\n",
      "  194.37411435 1438.60543878  139.44988496  395.39234595 1005.11185931\n",
      "   16.45482416  267.30498889   78.79835927  331.56892904 1004.9165696\n",
      "   87.34357519  165.68496598 -124.80414592 1429.0118646 ]\n",
      "(24,)\n",
      "(24,)\n",
      "[ 146. 1429. 1011. 1036.  225. 1248.  955.  948.  127. 2343.  310. 1354.\n",
      "   39.  327.  806.   15.  310.   48.  299.  920.  151.  151.    4. 1940.]\n"
     ]
    }
   ],
   "source": [
    "start = time.time()\n",
    "theta4,error_list = gradient_descent(X4,y4)\n",
    "end = time.time()\n",
    "print(\"Time taken by Vectorized Code\",end-start)\n",
    "theta4\n",
    "plt.plot(error_list)\n",
    "plt.show()\n",
    "## Predictions\n",
    "y4_ = hypothesis(X4,theta4)\n",
    "print(r2_score(y4,y4_))\n",
    "print(y4_)\n",
    "print(y4_.shape)\n",
    "print(y4.shape)\n",
    "print(y4)"
   ]
  },
  {
   "cell_type": "code",
   "execution_count": 523,
   "metadata": {},
   "outputs": [],
   "source": [
    "##maize"
   ]
  },
  {
   "cell_type": "code",
   "execution_count": 524,
   "metadata": {},
   "outputs": [
    {
     "name": "stdout",
     "output_type": "stream",
     "text": [
      "(30, 5)\n",
      "(30,)\n",
      "[[8.03270e+04 1.97100e+02 2.87000e+01 7.20000e+01 4.02500e+00]\n",
      " [3.32490e+04 8.18000e+00 2.41000e+01 6.40000e+01 4.71000e+00]\n",
      " [5.76450e+04 1.66000e+02 2.64000e+01 7.43000e+01 5.86000e+00]\n",
      " [3.17970e+04 1.09800e+01 2.41000e+01 6.01000e+01 6.07000e+00]\n",
      " [7.41840e+04 1.37040e+02 2.80000e+01 7.30000e+01 5.67000e+00]\n",
      " [3.15720e+04 7.30000e+00 2.46000e+01 6.40000e+01 6.47000e+00]\n",
      " [1.16523e+05 1.79240e+02 2.94000e+01 7.10000e+01 6.10000e+00]\n",
      " [4.62620e+04 1.48500e+01 2.39000e+01 6.21000e+01 6.63000e+00]\n",
      " [9.49700e+04 1.07940e+02 2.79000e+01 6.96000e+01 8.33000e+00]\n",
      " [3.09040e+04 1.48500e+01 2.38000e+01 6.52000e+01 1.01400e+01]\n",
      " [1.34439e+05 2.04940e+02 2.63000e+01 7.25000e+01 8.86000e+00]\n",
      " [4.08680e+04 1.36800e+01 2.48000e+01 5.98000e+01 5.96000e+00]\n",
      " [9.53180e+04 1.78160e+02 2.71000e+01 7.40000e+01 5.13000e+00]\n",
      " [4.48540e+04 7.94000e+00 2.41000e+01 6.38000e+01 4.42000e+00]\n",
      " [9.00000e+04 1.64180e+02 2.63000e+01 7.12000e+01 2.45000e+00]\n",
      " [6.50000e+04 2.82800e+01 2.45000e+01 6.43000e+01 2.70000e+00]\n",
      " [7.57790e+04 1.75800e+02 2.60000e+01 7.10000e+01 2.41800e+00]\n",
      " [6.05510e+04 2.50000e+00 2.41000e+01 6.53000e+01 3.02200e+00]\n",
      " [6.03080e+04 1.23140e+02 2.50000e+01 7.20000e+01 3.39000e+00]\n",
      " [4.02750e+04 9.58000e+00 2.46000e+01 6.46000e+01 3.98000e+00]\n",
      " [5.70650e+04 2.35820e+02 2.88000e+01 7.40000e+01 2.58000e+00]\n",
      " [3.40920e+04 1.28600e+01 2.46000e+01 6.30000e+01 2.59200e+00]\n",
      " [5.31200e+04 1.39840e+02 2.84000e+01 7.70000e+01 2.84000e+00]\n",
      " [4.41810e+04 9.83000e+00 2.49000e+01 5.90000e+01 3.65000e+00]\n",
      " [7.90120e+04 1.88120e+02 2.80000e+01 7.24000e+01 2.96800e+00]\n",
      " [4.35400e+04 2.56500e+01 2.47000e+01 6.38000e+01 3.48200e+00]\n",
      " [6.28790e+04 2.53020e+02 2.78000e+01 7.34000e+01 1.87600e+00]\n",
      " [5.14570e+04 1.61000e+01 2.42000e+01 6.32000e+01 2.63200e+00]\n",
      " [5.35980e+04 1.17980e+02 2.92000e+01 6.58000e+01 3.04200e+00]\n",
      " [5.44930e+04 1.44000e+01 2.48000e+01 6.82000e+01 5.06400e+00]]\n",
      "[257689. 167741. 202910. 150940. 228264. 139359. 450711. 218125. 216057.\n",
      " 109029. 526463. 203277. 313024. 215568. 524000. 377000. 334716. 294944.\n",
      " 153725. 191226. 265809. 170051. 168497. 197047. 279978. 204378. 322506.\n",
      " 302104. 245318. 296987.]\n"
     ]
    }
   ],
   "source": [
    "y5 = X[94:124,-1]\n",
    "X5 = X[94:124,:5]\n",
    "print(X5.shape)\n",
    "print(y5.shape)\n",
    "print(X5)\n",
    "print(y5)"
   ]
  },
  {
   "cell_type": "code",
   "execution_count": 525,
   "metadata": {},
   "outputs": [
    {
     "name": "stdout",
     "output_type": "stream",
     "text": [
      "[2.52012919e+04 8.41708442e+01 1.83396656e+00 5.01309840e+00\n",
      " 2.05980189e+00]\n",
      "[6.12754000e+04 9.21766667e+01 2.59700000e+01 6.77866667e+01\n",
      " 4.56870000e+00]\n",
      "[[ 0.75597712  1.24655199  1.48857676  0.84046492 -0.26395742]\n",
      " [-1.11210172 -0.99793067 -1.01964782 -0.75535455  0.06859883]\n",
      " [-0.14405611  0.87706538  0.23446447  1.29926301  0.62690495]\n",
      " [-1.16971781 -0.96466499 -1.01964782 -1.53331654  0.7288565 ]\n",
      " [ 0.51221977  0.53300325  1.10689041  1.03994235  0.53466307]\n",
      " [-1.17864593 -1.00838559 -0.74701471 -0.75535455  0.92304994]\n",
      " [ 2.19225269  1.0343645   1.87026311  0.64098748  0.74342101]\n",
      " [-0.5957393  -0.91868707 -1.12870106 -1.13436167  1.00072731]\n",
      " [ 1.33701876  0.18727783  1.05236379  0.36171908  1.8260494 ]\n",
      " [-1.2051525  -0.91868707 -1.18322768 -0.51598163  2.70477469]\n",
      " [ 2.90316863  1.33969588  0.17993785  0.94020363  2.0833557 ]\n",
      " [-0.80977595 -0.93258738 -0.63796147 -1.59315976  0.67545331]\n",
      " [ 1.35082757  1.02153346  0.61615082  1.23941978  0.27250194]\n",
      " [-0.65160945 -1.00078201 -1.01964782 -0.79525003 -0.07219141]\n",
      " [ 1.13980665  0.85544269  0.17993785  0.68088297 -1.02859407]\n",
      " [ 0.14779401 -0.75913064 -0.80154133 -0.69551132 -0.90722317]\n",
      " [ 0.57551018  0.99349524  0.01635799  0.64098748 -1.04412954]\n",
      " [-0.02874456 -1.06541247 -1.01964782 -0.49603388 -0.75089746]\n",
      " [-0.03838692  0.36786293 -0.52890823  0.84046492 -0.5722395 ]\n",
      " [-0.83330649 -0.98129783 -0.74701471 -0.63566809 -0.28580419]\n",
      " [-0.1670708   1.70656876  1.54310338  1.23941978 -0.9654812 ]\n",
      " [-1.07865105 -0.94232947 -0.74701471 -0.95483198 -0.9596554 ]\n",
      " [-0.32361039  0.56626892  1.3249969   1.83785208 -0.83925547]\n",
      " [-0.67831443 -0.97832768 -0.58343485 -1.75274171 -0.44601377]\n",
      " [ 0.70379725  1.13986422  1.10689041  0.92025589 -0.77711357]\n",
      " [-0.70374964 -0.79037661 -0.69248809 -0.79525003 -0.52757501]\n",
      " [ 0.06363166  1.91091505  0.99783717  1.11973332 -1.30726164]\n",
      " [-0.38959907 -0.90383633 -0.9651212  -0.91493649 -0.94023606]\n",
      " [-0.30464311  0.30655904  1.76120987 -0.39629517 -0.74118779]\n",
      " [-0.26912906 -0.92403334 -0.63796147  0.08245067  0.24046002]]\n"
     ]
    }
   ],
   "source": [
    "u = np.mean(X5,axis=0)\n",
    "std = np.std(X5,axis=0)\n",
    "print(std)\n",
    "print(u)\n",
    "X5 = (X5-u)/std\n",
    "print(X5)"
   ]
  },
  {
   "cell_type": "code",
   "execution_count": 526,
   "metadata": {},
   "outputs": [
    {
     "name": "stdout",
     "output_type": "stream",
     "text": [
      "(30, 5) (30,)\n",
      "(30, 6)\n"
     ]
    }
   ],
   "source": [
    "print(X5.shape, y5.shape)\n",
    "\n",
    "ones = np.ones((X5.shape[0],1))\n",
    "X5 = np.hstack((ones,X5))\n",
    "print(X5.shape)"
   ]
  },
  {
   "cell_type": "code",
   "execution_count": 527,
   "metadata": {},
   "outputs": [],
   "source": [
    "def hypothesis(X5,theta5):\n",
    "    return np.dot(X5,theta5)\n",
    "\n",
    "def error(X5,y5,theta5):\n",
    "    e = 0.0\n",
    "    y5_ = hy5pothesis(X5,theta5)\n",
    "    e = np.sum((y5-y5_)**2)\n",
    "    \n",
    "    return e/m\n",
    "    \n",
    "def gradient(X5,y5,theta5):\n",
    "    \n",
    "    y5_ = hy5pothesis(X5,theta5)\n",
    "    grad = np.dot(X5.T,(y5_ - y5))\n",
    "    m = X5.shape[0]\n",
    "    return grad/m\n",
    "\n",
    "def gradient_descent(X5,y5,learning_rate = 0.1,maX5_iters=300):\n",
    "    \n",
    "    n = X5.shape[1]\n",
    "    theta5 = np.zeros((n,))\n",
    "    error_list = []\n",
    "    \n",
    "    for i in range(maX5_iters):\n",
    "        e = error(X5,y5,theta5)\n",
    "        error_list.append(e)\n",
    "        \n",
    "        #Gradient descent\n",
    "        grad = gradient(X5,y5,theta5)\n",
    "        theta5 = theta5 - learning_rate*grad\n",
    "        \n",
    "    return theta5,error_list\n",
    "    \n"
   ]
  },
  {
   "cell_type": "code",
   "execution_count": 529,
   "metadata": {},
   "outputs": [
    {
     "name": "stdout",
     "output_type": "stream",
     "text": [
      "Time taken by Vectorized Code 0.01794147491455078\n"
     ]
    },
    {
     "data": {
      "image/png": "[encoded data removed]",
      "text/plain": [
       "<Figure size 576x396 with 1 Axes>"
      ]
     },
     "metadata": {},
     "output_type": "display_data"
    },
    {
     "name": "stdout",
     "output_type": "stream",
     "text": [
      "80.22871827583413\n",
      "[304289.69754228 166449.57483481 194019.06750315 163949.99754428\n",
      " 237898.23989326 120524.90565698 414529.74078374 209419.32167198\n",
      " 298697.04194867  66825.8960753  503384.39972625 194743.00182621\n",
      " 361987.45453623 222725.51285164 411771.05680004 334139.96729188\n",
      " 361350.7052227  302284.21428967 273642.76498684 196093.53531628\n",
      " 224923.00742619 203605.12090985 160713.30032742 249226.01794561\n",
      " 323655.73373979 226926.39925599 289897.97075622 285429.81863979\n",
      " 210056.18228394 214283.35241286]\n",
      "(30,)\n",
      "(30,)\n",
      "[257689. 167741. 202910. 150940. 228264. 139359. 450711. 218125. 216057.\n",
      " 109029. 526463. 203277. 313024. 215568. 524000. 377000. 334716. 294944.\n",
      " 153725. 191226. 265809. 170051. 168497. 197047. 279978. 204378. 322506.\n",
      " 302104. 245318. 296987.]\n"
     ]
    }
   ],
   "source": [
    "start = time.time()\n",
    "theta5,error_list = gradient_descent(X5,y5)\n",
    "end = time.time()\n",
    "print(\"Time taken by Vectorized Code\",end-start)\n",
    "theta5\n",
    "plt.plot(error_list)\n",
    "plt.show()\n",
    "## Predictions\n",
    "y5_ = hypothesis(X5,theta5)\n",
    "print(r2_score(y5,y5_))\n",
    "print(y5_)\n",
    "print(y5_.shape)\n",
    "print(y5.shape)\n",
    "print(y5)"
   ]
  },
  {
   "cell_type": "code",
   "execution_count": 530,
   "metadata": {},
   "outputs": [],
   "source": [
    "##moong"
   ]
  },
  {
   "cell_type": "code",
   "execution_count": 531,
   "metadata": {},
   "outputs": [
    {
     "name": "stdout",
     "output_type": "stream",
     "text": [
      "(30, 5)\n",
      "(30,)\n",
      "[[3.5716e+04 1.9710e+02 2.8700e+01 7.2000e+01 4.0250e+00]\n",
      " [1.4900e+02 8.1800e+00 2.4100e+01 6.4000e+01 4.7100e+00]\n",
      " [2.9931e+04 1.6600e+02 2.6400e+01 7.4300e+01 5.8600e+00]\n",
      " [1.1570e+03 1.0980e+01 2.4100e+01 6.0100e+01 6.0700e+00]\n",
      " [2.4429e+04 1.3704e+02 2.8000e+01 7.3000e+01 5.6700e+00]\n",
      " [1.2340e+03 7.3000e+00 2.4600e+01 6.4000e+01 6.4700e+00]\n",
      " [2.8608e+04 1.7924e+02 2.9400e+01 7.1000e+01 6.1000e+00]\n",
      " [1.9490e+03 1.4850e+01 2.3900e+01 6.2100e+01 6.6300e+00]\n",
      " [1.3872e+04 1.0794e+02 2.7900e+01 6.9600e+01 8.3300e+00]\n",
      " [1.3700e+03 1.4850e+01 2.3800e+01 6.5200e+01 1.0140e+01]\n",
      " [1.7297e+04 2.0494e+02 2.6300e+01 7.2500e+01 8.8600e+00]\n",
      " [1.1970e+03 1.3680e+01 2.4800e+01 5.9800e+01 5.9600e+00]\n",
      " [1.1841e+04 1.7816e+02 2.7100e+01 7.4000e+01 5.1300e+00]\n",
      " [2.3440e+03 7.9400e+00 2.4100e+01 6.3800e+01 4.4200e+00]\n",
      " [1.2000e+04 1.6418e+02 2.6300e+01 7.1200e+01 2.4500e+00]\n",
      " [2.0000e+03 2.8280e+01 2.4500e+01 6.4300e+01 2.7000e+00]\n",
      " [1.0316e+04 1.7580e+02 2.6000e+01 7.1000e+01 2.4180e+00]\n",
      " [1.2630e+03 2.5000e+00 2.4100e+01 6.5300e+01 3.0220e+00]\n",
      " [6.6290e+03 1.2314e+02 2.5000e+01 7.2000e+01 3.3900e+00]\n",
      " [3.5130e+03 9.5800e+00 2.4600e+01 6.4600e+01 3.9800e+00]\n",
      " [8.2130e+03 2.3582e+02 2.8800e+01 7.4000e+01 2.5800e+00]\n",
      " [2.0890e+03 1.2860e+01 2.4600e+01 6.3000e+01 2.5920e+00]\n",
      " [6.5490e+03 1.3984e+02 2.8400e+01 7.7000e+01 2.8400e+00]\n",
      " [4.6530e+03 9.8300e+00 2.4900e+01 5.9000e+01 3.6500e+00]\n",
      " [2.7000e+03 1.8812e+02 2.8000e+01 7.2400e+01 2.9680e+00]\n",
      " [2.5000e+03 2.5650e+01 2.4700e+01 6.3800e+01 3.4820e+00]\n",
      " [4.6670e+03 2.5302e+02 2.7800e+01 7.3400e+01 1.8760e+00]\n",
      " [4.4700e+03 1.6100e+01 2.4200e+01 6.3200e+01 2.6320e+00]\n",
      " [3.0440e+03 1.1798e+02 2.9200e+01 6.5800e+01 3.0420e+00]\n",
      " [4.3080e+03 1.4400e+01 2.4800e+01 6.8200e+01 5.0640e+00]]\n",
      "[14036.    50.  8650.   353.  5032.   315. 10671.   659.  2705.   447.\n",
      "  5379.   640.  2617.  2021.  5000.  2000.  4230.  1118.  1352.  1623.\n",
      "  3162.  1157.  2744.  3234.  6200.  4200.  2488.  4257.  1129.  2537.]\n"
     ]
    }
   ],
   "source": [
    "y6 = X[124:154,-1]\n",
    "X6 = X[124:154,:5]\n",
    "print(X6.shape)\n",
    "print(y6.shape)\n",
    "print(X6)\n",
    "print(y6)"
   ]
  },
  {
   "cell_type": "code",
   "execution_count": 532,
   "metadata": {},
   "outputs": [
    {
     "name": "stdout",
     "output_type": "stream",
     "text": [
      "[9.45572508e+03 8.41708442e+01 1.83396656e+00 5.01309840e+00\n",
      " 2.05980189e+00]\n",
      "[8.33360000e+03 9.21766667e+01 2.59700000e+01 6.77866667e+01\n",
      " 4.56870000e+00]\n",
      "[[ 2.89585407  1.24655199  1.48857676  0.84046492 -0.26395742]\n",
      " [-0.86557085 -0.99793067 -1.01964782 -0.75535455  0.06859883]\n",
      " [ 2.28405541  0.87706538  0.23446447  1.29926301  0.62690495]\n",
      " [-0.75896877 -0.96466499 -1.01964782 -1.53331654  0.7288565 ]\n",
      " [ 1.7021857   0.53300325  1.10689041  1.03994235  0.53466307]\n",
      " [-0.75082555 -1.00838559 -0.74701471 -0.75535455  0.92304994]\n",
      " [ 2.14414017  1.0343645   1.87026311  0.64098748  0.74342101]\n",
      " [-0.67520999 -0.91868707 -1.12870106 -1.13436167  1.00072731]\n",
      " [ 0.58571923  0.18727783  1.05236379  0.36171908  1.8260494 ]\n",
      " [-0.73644273 -0.91868707 -1.18322768 -0.51598163  2.70477469]\n",
      " [ 0.94793365  1.33969588  0.17993785  0.94020363  2.0833557 ]\n",
      " [-0.75473853 -0.93258738 -0.63796147 -1.59315976  0.67545331]\n",
      " [ 0.37092872  1.02153346  0.61615082  1.23941978  0.27250194]\n",
      " [-0.63343635 -1.00078201 -1.01964782 -0.79525003 -0.07219141]\n",
      " [ 0.38774393  0.85544269  0.17993785  0.68088297 -1.02859407]\n",
      " [-0.66981643 -0.75913064 -0.80154133 -0.69551132 -0.90722317]\n",
      " [ 0.20965077  0.99349524  0.01635799  0.64098748 -1.04412954]\n",
      " [-0.74775863 -1.06541247 -1.01964782 -0.49603388 -0.75089746]\n",
      " [-0.18027174  0.36786293 -0.52890823  0.84046492 -0.5722395 ]\n",
      " [-0.50980755 -0.98129783 -0.74701471 -0.63566809 -0.28580419]\n",
      " [-0.01275418  1.70656876  1.54310338  1.23941978 -0.9654812 ]\n",
      " [-0.66040414 -0.94232947 -0.74701471 -0.95483198 -0.9596554 ]\n",
      " [-0.18873222  0.56626892  1.3249969   1.83785208 -0.83925547]\n",
      " [-0.38924567 -0.97832768 -0.58343485 -1.75274171 -0.44601377]\n",
      " [-0.5957872   1.13986422  1.10689041  0.92025589 -0.77711357]\n",
      " [-0.61693841 -0.79037661 -0.69248809 -0.79525003 -0.52757501]\n",
      " [-0.38776508  1.91091505  0.99783717  1.11973332 -1.30726164]\n",
      " [-0.40859902 -0.90383633 -0.9651212  -0.91493649 -0.94023606]\n",
      " [-0.55940713  0.30655904  1.76120987 -0.39629517 -0.74118779]\n",
      " [-0.4257315  -0.92403334 -0.63796147  0.08245067  0.24046002]]\n"
     ]
    }
   ],
   "source": [
    "u = np.mean(X6,axis=0)\n",
    "std = np.std(X6,axis=0)\n",
    "print(std)\n",
    "print(u)\n",
    "X6 = (X6-u)/std\n",
    "print(X6)"
   ]
  },
  {
   "cell_type": "code",
   "execution_count": 533,
   "metadata": {},
   "outputs": [
    {
     "name": "stdout",
     "output_type": "stream",
     "text": [
      "(30, 5) (30,)\n",
      "(30, 6)\n"
     ]
    }
   ],
   "source": [
    "print(X6.shape, y6.shape)\n",
    "\n",
    "ones = np.ones((X6.shape[0],1))\n",
    "X6 = np.hstack((ones,X6))\n",
    "print(X6.shape)"
   ]
  },
  {
   "cell_type": "code",
   "execution_count": 534,
   "metadata": {},
   "outputs": [],
   "source": [
    "def hypothesis(X6,theta6):\n",
    "    return np.dot(X6,theta6)\n",
    "\n",
    "def error(X6,y6,theta6):\n",
    "    e = 0.0\n",
    "    y6_ = hy6pothesis(X6,theta6)\n",
    "    e = np.sum((y6-y6_)**2)\n",
    "    \n",
    "    return e/m\n",
    "    \n",
    "def gradient(X6,y6,theta6):\n",
    "    \n",
    "    y6_ = hy6pothesis(X6,theta6)\n",
    "    grad = np.dot(X6.T,(y6_ - y6))\n",
    "    m = X6.shape[0]\n",
    "    return grad/m\n",
    "\n",
    "def gradient_descent(X6,y6,learning_rate = 0.1,maX6_iters=300):\n",
    "    \n",
    "    n = X6.shape[1]\n",
    "    theta6 = np.zeros((n,))\n",
    "    error_list = []\n",
    "    \n",
    "    for i in range(maX6_iters):\n",
    "        e = error(X6,y6,theta6)\n",
    "        error_list.append(e)\n",
    "        \n",
    "        #Gradient descent\n",
    "        grad = gradient(X6,y6,theta6)\n",
    "        theta6 = theta6 - learning_rate*grad\n",
    "        \n",
    "    return theta6,error_list\n",
    "    \n"
   ]
  },
  {
   "cell_type": "code",
   "execution_count": 535,
   "metadata": {},
   "outputs": [
    {
     "name": "stdout",
     "output_type": "stream",
     "text": [
      "Time taken by Vectorized Code 0.017680644989013672\n"
     ]
    },
    {
     "data": {
      "image/png": "[encoded data removed]",
      "text/plain": [
       "<Figure size 576x396 with 1 Axes>"
      ]
     },
     "metadata": {},
     "output_type": "display_data"
    },
    {
     "name": "stdout",
     "output_type": "stream",
     "text": [
      "82.73612197707992\n",
      "[12232.78832814   718.04011474  9265.0268384   1150.99036\n",
      "  7600.35826136   467.99289984  9322.05444285   953.49929342\n",
      "  3671.00785722  -845.88332862  4747.65679273  1261.43120712\n",
      "  3898.04068802  1537.35090968  5156.64966869  2057.95131181\n",
      "  4731.54616739  1418.16195738  2775.57038669  1953.12043648\n",
      "  3956.60622157  2213.81337737  2337.06253666  3220.71282664\n",
      "  2016.9590307   2009.79867096  3255.2241125   2944.54502433\n",
      "  2616.75299093  1361.170615  ]\n",
      "(30,)\n",
      "(30,)\n",
      "[14036.    50.  8650.   353.  5032.   315. 10671.   659.  2705.   447.\n",
      "  5379.   640.  2617.  2021.  5000.  2000.  4230.  1118.  1352.  1623.\n",
      "  3162.  1157.  2744.  3234.  6200.  4200.  2488.  4257.  1129.  2537.]\n"
     ]
    }
   ],
   "source": [
    "start = time.time()\n",
    "theta6,error_list = gradient_descent(X6,y6)\n",
    "end = time.time()\n",
    "print(\"Time taken by Vectorized Code\",end-start)\n",
    "theta6\n",
    "plt.plot(error_list)\n",
    "plt.show()\n",
    "## Predictions\n",
    "y6_ = hypothesis(X6,theta6)\n",
    "print(r2_score(y6,y6_))\n",
    "print(y6_)\n",
    "print(y6_.shape)\n",
    "print(y6.shape)\n",
    "print(y6)"
   ]
  },
  {
   "cell_type": "code",
   "execution_count": 536,
   "metadata": {},
   "outputs": [],
   "source": [
    "##onion"
   ]
  },
  {
   "cell_type": "code",
   "execution_count": 537,
   "metadata": {},
   "outputs": [
    {
     "name": "stdout",
     "output_type": "stream",
     "text": [
      "(27, 5)\n",
      "(27,)\n",
      "[[1.62804e+05 1.97100e+02 2.87000e+01 7.20000e+01 4.02500e+00]\n",
      " [6.32000e+02 8.18000e+00 2.41000e+01 6.40000e+01 4.71000e+00]\n",
      " [8.80000e+01 1.66000e+02 2.64000e+01 7.43000e+01 5.86000e+00]\n",
      " [5.82000e+02 1.09800e+01 2.41000e+01 6.01000e+01 6.07000e+00]\n",
      " [9.10000e+01 1.37040e+02 2.80000e+01 7.30000e+01 5.67000e+00]\n",
      " [4.53000e+02 7.30000e+00 2.46000e+01 6.40000e+01 6.47000e+00]\n",
      " [1.03000e+02 1.79240e+02 2.94000e+01 7.10000e+01 6.10000e+00]\n",
      " [5.51000e+02 1.48500e+01 2.39000e+01 6.21000e+01 6.63000e+00]\n",
      " [1.57000e+02 1.07940e+02 2.79000e+01 6.96000e+01 8.33000e+00]\n",
      " [4.50000e+02 1.48500e+01 2.38000e+01 6.52000e+01 1.01400e+01]\n",
      " [5.40000e+01 2.04940e+02 2.63000e+01 7.25000e+01 8.86000e+00]\n",
      " [8.03000e+02 1.36800e+01 2.48000e+01 5.98000e+01 5.96000e+00]\n",
      " [1.37000e+02 1.78160e+02 2.71000e+01 7.40000e+01 5.13000e+00]\n",
      " [3.40000e+02 7.94000e+00 2.41000e+01 6.38000e+01 4.42000e+00]\n",
      " [1.00000e+03 2.82800e+01 2.45000e+01 6.43000e+01 2.70000e+00]\n",
      " [5.11000e+02 1.75800e+02 2.60000e+01 7.10000e+01 2.41800e+00]\n",
      " [8.02000e+02 2.50000e+00 2.41000e+01 6.53000e+01 3.02200e+00]\n",
      " [3.69000e+02 1.23140e+02 2.50000e+01 7.20000e+01 3.39000e+00]\n",
      " [5.94000e+02 9.58000e+00 2.46000e+01 6.46000e+01 3.98000e+00]\n",
      " [8.55000e+02 1.28600e+01 2.46000e+01 6.30000e+01 2.59200e+00]\n",
      " [4.00000e+00 1.39840e+02 2.84000e+01 7.70000e+01 2.84000e+00]\n",
      " [6.69000e+02 9.83000e+00 2.49000e+01 5.90000e+01 3.65000e+00]\n",
      " [1.48000e+02 1.88120e+02 2.80000e+01 7.24000e+01 2.96800e+00]\n",
      " [6.39000e+02 2.56500e+01 2.47000e+01 6.38000e+01 3.48200e+00]\n",
      " [6.69000e+02 1.61000e+01 2.42000e+01 6.32000e+01 2.63200e+00]\n",
      " [1.80000e+01 1.17980e+02 2.92000e+01 6.58000e+01 3.04200e+00]\n",
      " [5.51000e+02 1.44000e+01 2.48000e+01 6.82000e+01 5.06400e+00]]\n",
      "[5.09694e+05 1.58900e+04 9.61000e+02 1.52060e+04 6.99000e+02 1.13200e+04\n",
      " 1.09900e+03 1.52720e+04 1.58600e+03 1.00500e+04 6.97000e+02 1.59760e+04\n",
      " 2.06300e+03 8.44800e+03 1.30000e+04 7.34500e+03 1.80850e+04 6.41600e+03\n",
      " 1.44160e+04 1.63950e+04 4.50000e+01 1.82670e+04 1.70800e+03 1.57810e+04\n",
      " 1.77770e+04 2.80000e+02 1.50510e+04]\n"
     ]
    }
   ],
   "source": [
    "y7 = X[154:181,-1]\n",
    "X7 = X[154:181,:5]\n",
    "print(X7.shape)\n",
    "print(y7.shape)\n",
    "print(X7)\n",
    "print(y7)"
   ]
  },
  {
   "cell_type": "code",
   "execution_count": 538,
   "metadata": {},
   "outputs": [
    {
     "name": "stdout",
     "output_type": "stream",
     "text": [
      "[3.06653934e+04 7.59150746e+01 1.81060737e+00 4.95747347e+00\n",
      " 2.01729945e+00]\n",
      "[6.44718519e+03 7.82325926e+01 2.57851852e+01 6.72222222e+01\n",
      " 4.82055556e+00]\n",
      "[[ 5.09880348  1.56579451  1.60985472  0.96375257 -0.39436662]\n",
      " [-0.18963348 -0.92277579 -0.93072922 -0.64997266 -0.05480374]\n",
      " [-0.20737334  1.15612621  0.33956275  1.42769857  0.51526532]\n",
      " [-0.19126398 -0.88589247 -0.93072922 -1.43666371  0.61936489]\n",
      " [-0.20727551  0.7746473   1.22324412  1.16546822  0.42108   ]\n",
      " [-0.19547068 -0.93436769 -0.65457879 -0.64997266  0.81764978]\n",
      " [-0.20688419  1.33053162  1.99646532  0.76203691  0.63423625]\n",
      " [-0.19227489 -0.83491445 -1.04118939 -1.0332324   0.89696373]\n",
      " [-0.20512325  0.39132422  1.16801403  0.479635    1.73967452]\n",
      " [-0.19556851 -0.83491445 -1.09641948 -0.40791388  2.63691365]\n",
      " [-0.20848209  1.66906781  0.28433266  1.06461039  2.002402  ]\n",
      " [-0.18405716 -0.85032641 -0.54411862 -1.4971784   0.56483654]\n",
      " [-0.20577545  1.3163052   0.72617335  1.36718387  0.15339539]\n",
      " [-0.19915561 -0.92593721 -0.93072922 -0.69031579 -0.19856029]\n",
      " [-0.17763298 -0.65800624 -0.70980888 -0.58945796 -1.05118532]\n",
      " [-0.19357929  1.28521783  0.11864241  0.76203691 -1.19097616]\n",
      " [-0.18408977 -0.99759623 -0.93072922 -0.38774231 -0.89156598]\n",
      " [-0.19820992  0.59154796 -0.43365845  0.96375257 -0.70914388]\n",
      " [-0.19087266 -0.90433413 -0.65457879 -0.52894327 -0.41667367]\n",
      " [-0.18236144 -0.86112795 -0.65457879 -0.85168831 -1.10472224]\n",
      " [-0.21011259  0.81153062  1.44416446  1.97233083 -0.9817856 ]\n",
      " [-0.18842691 -0.90104097 -0.48888854 -1.65855093 -0.5802587 ]\n",
      " [-0.20541674  1.44750444  1.22324412  1.04443883 -0.91833444]\n",
      " [-0.18940521 -0.69265021 -0.59934871 -0.69031579 -0.66353835]\n",
      " [-0.18842691 -0.81844868 -0.87549914 -0.81134518 -1.08489375]\n",
      " [-0.20965605  0.52357727  1.88600515 -0.28688448 -0.88165173]\n",
      " [-0.19227489 -0.84084212 -0.54411862  0.19723308  0.12067839]]\n"
     ]
    }
   ],
   "source": [
    "u = np.mean(X7,axis=0)\n",
    "std = np.std(X7,axis=0)\n",
    "print(std)\n",
    "print(u)\n",
    "X7 = (X7-u)/std\n",
    "print(X7)"
   ]
  },
  {
   "cell_type": "code",
   "execution_count": 540,
   "metadata": {},
   "outputs": [
    {
     "name": "stdout",
     "output_type": "stream",
     "text": [
      "(27, 5) (27,)\n",
      "(27, 6)\n"
     ]
    }
   ],
   "source": [
    "print(X7.shape, y7.shape)\n",
    "\n",
    "ones = np.ones((X7.shape[0],1))\n",
    "X7 = np.hstack((ones,X7))\n",
    "print(X7.shape)"
   ]
  },
  {
   "cell_type": "code",
   "execution_count": 541,
   "metadata": {},
   "outputs": [],
   "source": [
    "def hypothesis(X7,theta7):\n",
    "    return np.dot(X7,theta7)\n",
    "\n",
    "def error(X7,y7,theta7):\n",
    "    e = 0.0\n",
    "    y7_ = hy7pothesis(X7,theta7)\n",
    "    e = np.sum((y7-y7_)**2)\n",
    "    \n",
    "    return e/m\n",
    "    \n",
    "def gradient(X7,y7,theta7):\n",
    "    \n",
    "    y7_ = hy7pothesis(X7,theta7)\n",
    "    grad = np.dot(X7.T,(y7_ - y7))\n",
    "    m = X7.shape[0]\n",
    "    return grad/m\n",
    "\n",
    "def gradient_descent(X7,y7,learning_rate = 0.1,maX7_iters=300):\n",
    "    \n",
    "    n = X7.shape[1]\n",
    "    theta7 = np.zeros((n,))\n",
    "    error_list = []\n",
    "    \n",
    "    for i in range(maX7_iters):\n",
    "        e = error(X7,y7,theta7)\n",
    "        error_list.append(e)\n",
    "        \n",
    "        #Gradient descent\n",
    "        grad = gradient(X7,y7,theta7)\n",
    "        theta7 = theta7 - learning_rate*grad\n",
    "        \n",
    "    return theta7,error_list\n",
    "    \n"
   ]
  },
  {
   "cell_type": "code",
   "execution_count": 542,
   "metadata": {},
   "outputs": [
    {
     "name": "stdout",
     "output_type": "stream",
     "text": [
      "Time taken by Vectorized Code 0.014649629592895508\n"
     ]
    },
    {
     "data": {
      "image/png": "[encoded data removed]",
      "text/plain": [
       "<Figure size 576x396 with 1 Axes>"
      ]
     },
     "metadata": {},
     "output_type": "display_data"
    },
    {
     "name": "stdout",
     "output_type": "stream",
     "text": [
      "99.96133940718175\n",
      "[5.09694e+05 1.58900e+04 9.61000e+02 1.52060e+04 6.99000e+02 1.13200e+04\n",
      " 1.09900e+03 1.52720e+04 1.58600e+03 1.00500e+04 6.97000e+02 1.59760e+04\n",
      " 2.06300e+03 8.44800e+03 1.30000e+04 7.34500e+03 1.80850e+04 6.41600e+03\n",
      " 1.44160e+04 1.63950e+04 4.50000e+01 1.82670e+04 1.70800e+03 1.57810e+04\n",
      " 1.77770e+04 2.80000e+02 1.50510e+04]\n",
      "[ 5.09700826e+05  1.48667177e+04  2.01927854e+03  1.54702571e+04\n",
      "  8.52432744e+02  1.26470035e+04 -1.43196751e+03  1.45028030e+04\n",
      "  1.69586413e+03  1.12339440e+04  4.10703762e+02  1.52569080e+04\n",
      "  1.41399271e+03  1.41904819e+04  1.59944177e+04  6.88487801e+03\n",
      "  1.58977840e+04  8.02318476e+03  1.41371651e+04  1.62645642e+04\n",
      " -1.32592554e+02  1.63147301e+04  1.71659526e+03  1.44001234e+04\n",
      "  1.61071809e+04  3.47704262e+03  1.16126811e+04]\n"
     ]
    }
   ],
   "source": [
    "start = time.time()\n",
    "theta7,error_list = gradient_descent(X7,y7)\n",
    "end = time.time()\n",
    "print(\"Time taken by Vectorized Code\",end-start)\n",
    "theta7\n",
    "plt.plot(error_list)\n",
    "plt.show()\n",
    "## Predictions\n",
    "y7_ = hypothesis(X7,theta7)\n",
    "print(r2_score(y7,y7_))\n",
    "#print(y7_)\n",
    "#print(y7_.shape)\n",
    "#print(y7.shape)\n",
    "print(y7)\n",
    "print(y7_)"
   ]
  },
  {
   "cell_type": "code",
   "execution_count": 543,
   "metadata": {},
   "outputs": [],
   "source": [
    "##rice"
   ]
  },
  {
   "cell_type": "code",
   "execution_count": 544,
   "metadata": {},
   "outputs": [
    {
     "name": "stdout",
     "output_type": "stream",
     "text": [
      "(29, 5)\n",
      "(29,)\n",
      "[[1.08608e+05 8.18000e+00 2.41000e+01 6.40000e+01 4.71000e+00]\n",
      " [1.41154e+05 1.66000e+02 2.64000e+01 7.43000e+01 5.86000e+00]\n",
      " [1.03207e+05 1.09800e+01 2.41000e+01 6.01000e+01 6.07000e+00]\n",
      " [1.33365e+05 1.37040e+02 2.80000e+01 7.30000e+01 5.67000e+00]\n",
      " [4.85450e+04 7.30000e+00 2.46000e+01 6.40000e+01 6.47000e+00]\n",
      " [1.22858e+05 1.79240e+02 2.94000e+01 7.10000e+01 6.10000e+00]\n",
      " [6.47180e+04 1.48500e+01 2.39000e+01 6.21000e+01 6.63000e+00]\n",
      " [6.54530e+04 1.07940e+02 2.79000e+01 6.96000e+01 8.33000e+00]\n",
      " [1.81820e+04 1.48500e+01 2.38000e+01 6.52000e+01 1.01400e+01]\n",
      " [1.46979e+05 2.04940e+02 2.63000e+01 7.25000e+01 8.86000e+00]\n",
      " [1.19417e+05 1.36800e+01 2.48000e+01 5.98000e+01 5.96000e+00]\n",
      " [1.66750e+05 1.78160e+02 2.71000e+01 7.40000e+01 5.13000e+00]\n",
      " [1.66759e+05 7.94000e+00 2.41000e+01 6.38000e+01 4.42000e+00]\n",
      " [1.30000e+05 1.64180e+02 2.63000e+01 7.12000e+01 2.45000e+00]\n",
      " [1.52000e+05 2.82800e+01 2.45000e+01 6.43000e+01 2.70000e+00]\n",
      " [1.60406e+05 1.75800e+02 2.60000e+01 7.10000e+01 2.41800e+00]\n",
      " [1.75551e+05 2.50000e+00 2.41000e+01 6.53000e+01 3.02200e+00]\n",
      " [8.48860e+04 1.23140e+02 2.50000e+01 7.20000e+01 3.39000e+00]\n",
      " [7.74390e+04 9.58000e+00 2.46000e+01 6.46000e+01 3.98000e+00]\n",
      " [1.59548e+05 2.35820e+02 2.88000e+01 7.40000e+01 2.58000e+00]\n",
      " [2.21971e+05 1.28600e+01 2.46000e+01 6.30000e+01 2.59200e+00]\n",
      " [1.85727e+05 1.39840e+02 2.84000e+01 7.70000e+01 2.84000e+00]\n",
      " [1.57649e+05 9.83000e+00 2.49000e+01 5.90000e+01 3.65000e+00]\n",
      " [1.45067e+05 1.88120e+02 2.80000e+01 7.24000e+01 2.96800e+00]\n",
      " [1.22976e+05 2.56500e+01 2.47000e+01 6.38000e+01 3.48200e+00]\n",
      " [2.09454e+05 2.53020e+02 2.78000e+01 7.34000e+01 1.87600e+00]\n",
      " [2.08458e+05 1.61000e+01 2.42000e+01 6.32000e+01 2.63200e+00]\n",
      " [1.79282e+05 1.17980e+02 2.92000e+01 6.58000e+01 3.04200e+00]\n",
      " [9.91510e+04 1.44000e+01 2.48000e+01 6.82000e+01 5.06400e+00]]\n",
      "[376544. 429108. 332223. 345015. 152965. 395726. 206321. 147989.  50382.\n",
      " 501639. 410675. 521094. 548470. 441000. 545000. 543135. 632861. 274182.\n",
      " 239209. 523465. 828396. 601858. 518192. 468338. 426347. 732042. 768793.\n",
      " 632136. 358827.]\n"
     ]
    }
   ],
   "source": [
    "y8 = X[181:210,-1]\n",
    "X8 = X[181:210,:5]\n",
    "print(X8.shape)\n",
    "print(y8.shape)\n",
    "print(X8)\n",
    "print(y8)"
   ]
  },
  {
   "cell_type": "code",
   "execution_count": 463,
   "metadata": {},
   "outputs": [
    {
     "name": "stdout",
     "output_type": "stream",
     "text": [
      "[4.88681143e+04 8.32845987e+01 1.79263920e+00 5.03631757e+00\n",
      " 2.09249654e+00]\n",
      "[1.33640000e+05 8.85586207e+01 2.58758621e+01 6.76413793e+01\n",
      " 4.58744828e+00]\n",
      "[[-0.51223585 -0.96510786 -0.9906411  -0.72302417  0.05856723]\n",
      " [ 0.15376079  0.92984034  0.29238339  1.32212089  0.60814998]\n",
      " [-0.62275781 -0.9314882  -0.9906411  -1.49739948  0.70850857]\n",
      " [-0.00562739  0.58211698  1.18492217  1.06399579  0.51734935]\n",
      " [-1.74131949 -0.97567404 -0.71172273 -0.72302417  0.89966778]\n",
      " [-0.22063466  1.08881331  1.9658936   0.66688024  0.72284551]\n",
      " [-1.4103675  -0.88502102 -1.10220845 -1.10028393  0.97613147]\n",
      " [-1.39532701  0.23271265  1.1291385   0.38889936  1.78855814]\n",
      " [-2.36264488 -0.88502102 -1.15799212 -0.48475484  2.6535536 ]\n",
      " [ 0.27295917  1.39739377  0.23659972  0.9647169   2.04184411]\n",
      " [-0.29104868 -0.89906924 -0.60015539 -1.55696681  0.65593978]\n",
      " [ 0.67753791  1.07584572  0.68286911  1.26255356  0.25928441]\n",
      " [ 0.67772208 -0.96798954 -0.9906411  -0.76273572 -0.0800232 ]\n",
      " [-0.0744862   0.90798756  0.23659972  0.7065918  -1.02148235]\n",
      " [ 0.3757051  -0.72376672 -0.76750641 -0.66345683 -0.90200784]\n",
      " [ 0.54771911  1.04750915  0.0692487   0.66688024 -1.03677508]\n",
      " [ 0.85763489 -1.03330774 -0.9906411  -0.46489906 -0.74812467]\n",
      " [-0.99766485  0.41521938 -0.48858804  0.86543802 -0.57225819]\n",
      " [-1.15005461 -0.94829803 -0.71172273 -0.6038895  -0.29029834]\n",
      " [ 0.53016165  1.76817061  1.63119156  1.26255356 -0.9593556 ]\n",
      " [ 1.80753854 -0.908915   -0.71172273 -0.92158194 -0.95362083]\n",
      " [ 1.06586883  0.61573664  1.40805687  1.85822688 -0.83510211]\n",
      " [ 0.49130195 -0.94529627 -0.54437171 -1.71581303 -0.4480047 ]\n",
      " [ 0.23383345  1.19543566  1.18492217  0.94486113 -0.77393116]\n",
      " [-0.21822    -0.75534519 -0.65593906 -0.76273572 -0.52829157]\n",
      " [ 1.55140015  1.97469138  1.07335482  1.1434189  -1.29579582]\n",
      " [ 1.53101876 -0.87001224 -0.93485743 -0.88187038 -0.9345049 ]\n",
      " [ 0.93398325  0.35326315  1.85432626 -0.36562017 -0.73856671]\n",
      " [-0.70575672 -0.89042418 -0.60015539  0.11091848  0.22774314]]\n"
     ]
    }
   ],
   "source": [
    "u = np.mean(X8,axis=0)\n",
    "std = np.std(X8,axis=0)\n",
    "print(std)\n",
    "print(u)\n",
    "X8 = (X8-u)/std\n",
    "print(X8)"
   ]
  },
  {
   "cell_type": "code",
   "execution_count": 545,
   "metadata": {},
   "outputs": [
    {
     "name": "stdout",
     "output_type": "stream",
     "text": [
      "(29, 5) (29,)\n",
      "(29, 6)\n"
     ]
    }
   ],
   "source": [
    "print(X8.shape, y8.shape)\n",
    "\n",
    "ones = np.ones((X8.shape[0],1))\n",
    "X8 = np.hstack((ones,X8))\n",
    "print(X8.shape)"
   ]
  },
  {
   "cell_type": "code",
   "execution_count": 546,
   "metadata": {},
   "outputs": [],
   "source": [
    "def hypothesis(X8,theta8):\n",
    "    return np.dot(X8,theta8)\n",
    "\n",
    "def error(X8,y8,theta8):\n",
    "    e = 0.0\n",
    "    y8_ = hy8pothesis(X8,theta8)\n",
    "    e = np.sum((y8-y8_)**2)\n",
    "    \n",
    "    return e/m\n",
    "    \n",
    "def gradient(X8,y8,theta8):\n",
    "    \n",
    "    y8_ = hy8pothesis(X8,theta8)\n",
    "    grad = np.dot(X8.T,(y8_ - y8))\n",
    "    m = X8.shape[0]\n",
    "    return grad/m\n",
    "\n",
    "def gradient_descent(X8,y8,learning_rate = 0.1,maX8_iters=300):\n",
    "    \n",
    "    n = X8.shape[1]\n",
    "    theta8 = np.zeros((n,))\n",
    "    error_list = []\n",
    "    \n",
    "    for i in range(maX8_iters):\n",
    "        e = error(X8,y8,theta8)\n",
    "        error_list.append(e)\n",
    "        \n",
    "        #Gradient descent\n",
    "        grad = gradient(X8,y8,theta8)\n",
    "        theta8 = theta8 - learning_rate*grad\n",
    "        \n",
    "    return theta8,error_list\n",
    "    \n"
   ]
  },
  {
   "cell_type": "code",
   "execution_count": 547,
   "metadata": {},
   "outputs": [
    {
     "name": "stderr",
     "output_type": "stream",
     "text": [
      "C:\\Users\\srima\\anaconda3\\lib\\site-packages\\ipykernel_launcher.py:7: RuntimeWarning: overflow encountered in square\n",
      "  import sys\n",
      "C:\\Users\\srima\\anaconda3\\lib\\site-packages\\ipykernel_launcher.py:30: RuntimeWarning: invalid value encountered in subtract\n"
     ]
    },
    {
     "name": "stdout",
     "output_type": "stream",
     "text": [
      "Time taken by Vectorized Code 0.01359415054321289\n"
     ]
    },
    {
     "data": {
      "image/png": "[encoded data removed]",
      "text/plain": [
       "<Figure size 576x396 with 1 Axes>"
      ]
     },
     "metadata": {},
     "output_type": "display_data"
    },
    {
     "name": "stdout",
     "output_type": "stream",
     "text": [
      "nan\n",
      "[376544. 429108. 332223. 345015. 152965. 395726. 206321. 147989.  50382.\n",
      " 501639. 410675. 521094. 548470. 441000. 545000. 543135. 632861. 274182.\n",
      " 239209. 523465. 828396. 601858. 518192. 468338. 426347. 732042. 768793.\n",
      " 632136. 358827.]\n",
      "[nan nan nan nan nan nan nan nan nan nan nan nan nan nan nan nan nan nan\n",
      " nan nan nan nan nan nan nan nan nan nan nan]\n"
     ]
    }
   ],
   "source": [
    "start = time.time()\n",
    "theta8,error_list = gradient_descent(X8,y8)\n",
    "end = time.time()\n",
    "print(\"Time taken by Vectorized Code\",end-start)\n",
    "theta8\n",
    "plt.plot(error_list)\n",
    "plt.show()\n",
    "## Predictions\n",
    "y8_ = hypothesis(X8,theta8)\n",
    "print(r2_score(y8,y8_))\n",
    "#print(y8_)\n",
    "#print(y8_.shape)\n",
    "#print(y8.shape)\n",
    "print(y8)\n",
    "print(y8_)"
   ]
  },
  {
   "cell_type": "code",
   "execution_count": 412,
   "metadata": {},
   "outputs": [],
   "source": [
    "##Sesamum"
   ]
  },
  {
   "cell_type": "code",
   "execution_count": null,
   "metadata": {},
   "outputs": [],
   "source": []
  },
  {
   "cell_type": "code",
   "execution_count": null,
   "metadata": {},
   "outputs": [],
   "source": []
  },
  {
   "cell_type": "code",
   "execution_count": 111,
   "metadata": {
    "scrolled": true
   },
   "outputs": [
    {
     "name": "stdout",
     "output_type": "stream",
     "text": [
      "(26, 5)\n",
      "(26,)\n",
      "[[4.1500e+02 1.9710e+02 2.8700e+01 7.2000e+01 4.0250e+00]\n",
      " [3.0950e+03 8.1800e+00 2.4100e+01 6.4000e+01 4.7100e+00]\n",
      " [3.0800e+02 1.6600e+02 2.6400e+01 7.4300e+01 5.8600e+00]\n",
      " [3.2110e+03 1.0980e+01 2.4100e+01 6.0100e+01 6.0700e+00]\n",
      " [3.0400e+02 1.3704e+02 2.8000e+01 7.3000e+01 5.6700e+00]\n",
      " [2.0980e+03 7.3000e+00 2.4600e+01 6.4000e+01 6.4700e+00]\n",
      " [1.5700e+02 1.7924e+02 2.9400e+01 7.1000e+01 6.1000e+00]\n",
      " [3.3650e+03 1.4850e+01 2.3900e+01 6.2100e+01 6.6300e+00]\n",
      " [1.4500e+02 1.0794e+02 2.7900e+01 6.9600e+01 8.3300e+00]\n",
      " [3.6570e+03 1.4850e+01 2.3800e+01 6.5200e+01 1.0140e+01]\n",
      " [1.7800e+02 2.0494e+02 2.6300e+01 7.2500e+01 8.8600e+00]\n",
      " [4.6120e+03 1.3680e+01 2.4800e+01 5.9800e+01 5.9600e+00]\n",
      " [2.9900e+02 1.7816e+02 2.7100e+01 7.4000e+01 5.1300e+00]\n",
      " [4.5490e+03 7.9400e+00 2.4100e+01 6.3800e+01 4.4200e+00]\n",
      " [3.0000e+03 2.8280e+01 2.4500e+01 6.4300e+01 2.7000e+00]\n",
      " [2.3740e+03 2.5000e+00 2.4100e+01 6.5300e+01 3.0220e+00]\n",
      " [1.5400e+02 1.2314e+02 2.5000e+01 7.2000e+01 3.3900e+00]\n",
      " [4.5160e+03 9.5800e+00 2.4600e+01 6.4600e+01 3.9800e+00]\n",
      " [2.7000e+01 2.3582e+02 2.8800e+01 7.4000e+01 2.5800e+00]\n",
      " [6.2520e+03 1.2860e+01 2.4600e+01 6.3000e+01 2.5920e+00]\n",
      " [5.7390e+03 9.8300e+00 2.4900e+01 5.9000e+01 3.6500e+00]\n",
      " [2.0000e+02 1.8812e+02 2.8000e+01 7.2400e+01 2.9680e+00]\n",
      " [4.2730e+03 2.5650e+01 2.4700e+01 6.3800e+01 3.4820e+00]\n",
      " [6.0830e+03 1.6100e+01 2.4200e+01 6.3200e+01 2.6320e+00]\n",
      " [1.0000e+01 1.1798e+02 2.9200e+01 6.5800e+01 3.0420e+00]\n",
      " [7.2690e+03 1.4400e+01 2.4800e+01 6.8200e+01 5.0640e+00]]\n",
      "[6.400e+01 6.000e+02 6.000e+01 6.200e+02 5.700e+01 3.730e+02 4.500e+01\n",
      " 6.970e+02 3.900e+01 1.327e+03 4.300e+01 2.790e+03 5.600e+01 2.238e+03\n",
      " 1.000e+03 1.023e+03 1.600e+01 2.136e+03 5.000e+00 2.726e+03 2.169e+03\n",
      " 3.900e+01 1.744e+03 3.048e+03 2.000e+00 3.664e+03]\n"
     ]
    }
   ],
   "source": [
    "y8 = X[210:236,-1]\n",
    "X8 = X[210:236,:5]\n",
    "print(X8.shape)\n",
    "print(y8.shape)\n",
    "print(X8)\n",
    "print(y8)"
   ]
  },
  {
   "cell_type": "code",
   "execution_count": null,
   "metadata": {},
   "outputs": [],
   "source": [
    "u = np.mean(X1,axis=0)\n",
    "std = np.std(X1,axis=0)\n",
    "print(std)\n",
    "print(u)\n",
    "X1 = (X1-u)/std\n",
    "print(X1)"
   ]
  },
  {
   "cell_type": "code",
   "execution_count": 112,
   "metadata": {},
   "outputs": [],
   "source": [
    "##Tur"
   ]
  },
  {
   "cell_type": "code",
   "execution_count": 114,
   "metadata": {},
   "outputs": [
    {
     "name": "stdout",
     "output_type": "stream",
     "text": [
      "(24, 5)\n",
      "(24,)\n",
      "[[5.9910e+03 1.9710e+02 2.8700e+01 7.2000e+01 4.0250e+00]\n",
      " [5.4800e+02 8.1800e+00 2.4100e+01 6.4000e+01 4.7100e+00]\n",
      " [4.9990e+03 1.6600e+02 2.6400e+01 7.4300e+01 5.8600e+00]\n",
      " [6.8400e+02 1.0980e+01 2.4100e+01 6.0100e+01 6.0700e+00]\n",
      " [6.6200e+03 1.3704e+02 2.8000e+01 7.3000e+01 5.6700e+00]\n",
      " [5.1200e+02 7.3000e+00 2.4600e+01 6.4000e+01 6.4700e+00]\n",
      " [1.1352e+04 1.7924e+02 2.9400e+01 7.1000e+01 6.1000e+00]\n",
      " [8.8900e+02 1.4850e+01 2.3900e+01 6.2100e+01 6.6300e+00]\n",
      " [9.8330e+03 1.0794e+02 2.7900e+01 6.9600e+01 8.3300e+00]\n",
      " [5.7900e+02 1.4850e+01 2.3800e+01 6.5200e+01 1.0140e+01]\n",
      " [1.6818e+04 2.0494e+02 2.6300e+01 7.2500e+01 8.8600e+00]\n",
      " [1.1789e+04 1.7816e+02 2.7100e+01 7.4000e+01 5.1300e+00]\n",
      " [1.0000e+04 1.6418e+02 2.6300e+01 7.1200e+01 2.4500e+00]\n",
      " [6.5420e+03 1.7580e+02 2.6000e+01 7.1000e+01 2.4180e+00]\n",
      " [6.0160e+03 1.2314e+02 2.5000e+01 7.2000e+01 3.3900e+00]\n",
      " [9.2000e+02 9.5800e+00 2.4600e+01 6.4600e+01 3.9800e+00]\n",
      " [9.3840e+03 2.3582e+02 2.8800e+01 7.4000e+01 2.5800e+00]\n",
      " [5.0000e+01 1.2860e+01 2.4600e+01 6.3000e+01 2.5920e+00]\n",
      " [9.5690e+03 1.3984e+02 2.8400e+01 7.7000e+01 2.8400e+00]\n",
      " [1.8000e+01 9.8300e+00 2.4900e+01 5.9000e+01 3.6500e+00]\n",
      " [8.3280e+03 1.8812e+02 2.8000e+01 7.2400e+01 2.9680e+00]\n",
      " [5.2500e+02 2.5650e+01 2.4700e+01 6.3800e+01 3.4820e+00]\n",
      " [4.5480e+03 2.5302e+02 2.7800e+01 7.3400e+01 1.8760e+00]\n",
      " [3.1260e+03 1.1798e+02 2.9200e+01 6.5800e+01 3.0420e+00]]\n",
      "[2.1450e+03 1.9600e+02 2.6490e+03 3.6300e+02 1.6290e+03 1.2600e+02\n",
      " 4.8130e+03 3.7700e+02 2.2120e+03 1.3000e+02 1.1436e+04 5.1870e+03\n",
      " 7.0000e+03 3.8730e+03 4.4160e+03 6.7500e+02 3.3880e+03 1.8000e+01\n",
      " 4.3830e+03 8.0000e+00 4.1770e+03 2.3500e+02 3.0840e+03 2.2540e+03]\n"
     ]
    }
   ],
   "source": [
    "y9 = X[236:260,-1]\n",
    "X9 = X[236:260,:5]\n",
    "print(X9.shape)\n",
    "print(y9.shape)\n",
    "print(X9)\n",
    "print(y9)"
   ]
  },
  {
   "cell_type": "code",
   "execution_count": null,
   "metadata": {},
   "outputs": [],
   "source": [
    "u = np.mean(X1,axis=0)\n",
    "std = np.std(X1,axis=0)\n",
    "print(std)\n",
    "print(u)\n",
    "X1 = (X1-u)/std\n",
    "print(X1)"
   ]
  },
  {
   "cell_type": "code",
   "execution_count": 115,
   "metadata": {},
   "outputs": [],
   "source": [
    "##Urad"
   ]
  },
  {
   "cell_type": "code",
   "execution_count": 116,
   "metadata": {},
   "outputs": [
    {
     "name": "stdout",
     "output_type": "stream",
     "text": [
      "(24, 5)\n",
      "(24,)\n",
      "[[1.2000e+01 1.9710e+02 2.8700e+01 7.2000e+01 4.0250e+00]\n",
      " [5.1000e+01 8.1800e+00 2.4100e+01 6.4000e+01 4.7100e+00]\n",
      " [1.7800e+02 1.6600e+02 2.6400e+01 7.4300e+01 5.8600e+00]\n",
      " [9.3100e+02 1.0980e+01 2.4100e+01 6.0100e+01 6.0700e+00]\n",
      " [1.0000e+01 1.3704e+02 2.8000e+01 7.3000e+01 5.6700e+00]\n",
      " [1.9410e+03 7.3000e+00 2.4600e+01 6.4000e+01 6.4700e+00]\n",
      " [2.0000e+01 1.7924e+02 2.9400e+01 7.1000e+01 6.1000e+00]\n",
      " [9.6100e+02 1.4850e+01 2.3900e+01 6.2100e+01 6.6300e+00]\n",
      " [1.9000e+01 1.0794e+02 2.7900e+01 6.9600e+01 8.3300e+00]\n",
      " [5.7600e+02 1.4850e+01 2.3800e+01 6.5200e+01 1.0140e+01]\n",
      " [4.9200e+02 1.3680e+01 2.4800e+01 5.9800e+01 5.9600e+00]\n",
      " [5.1400e+02 7.9400e+00 2.4100e+01 6.3800e+01 4.4200e+00]\n",
      " [1.5300e+02 2.5000e+00 2.4100e+01 6.5300e+01 3.0220e+00]\n",
      " [4.8700e+02 9.5800e+00 2.4600e+01 6.4600e+01 3.9800e+00]\n",
      " [1.5200e+02 2.3582e+02 2.8800e+01 7.4000e+01 2.5800e+00]\n",
      " [1.2860e+03 1.2860e+01 2.4600e+01 6.3000e+01 2.5920e+00]\n",
      " [1.4400e+02 1.3984e+02 2.8400e+01 7.7000e+01 2.8400e+00]\n",
      " [3.0460e+03 9.8300e+00 2.4900e+01 5.9000e+01 3.6500e+00]\n",
      " [7.9000e+01 1.8812e+02 2.8000e+01 7.2400e+01 2.9680e+00]\n",
      " [1.2300e+03 2.5650e+01 2.4700e+01 6.3800e+01 3.4820e+00]\n",
      " [1.0100e+02 2.5302e+02 2.7800e+01 7.3400e+01 1.8760e+00]\n",
      " [4.4680e+03 1.6100e+01 2.4200e+01 6.3200e+01 2.6320e+00]\n",
      " [6.8000e+01 1.1798e+02 2.9200e+01 6.5800e+01 5.0640e+00]\n",
      " [2.3150e+03 1.4400e+01 2.4800e+01 6.8200e+01 5.0640e+00]]\n",
      "[4.000e+00 2.700e+01 7.800e+01 1.580e+02 5.000e+00 4.480e+02 1.400e+01\n",
      " 3.930e+02 9.000e+00 4.180e+02 3.630e+02 4.870e+02 1.030e+02 3.380e+02\n",
      " 9.400e+01 9.520e+02 1.010e+02 1.267e+03 4.900e+01 7.900e+02 8.300e+01\n",
      " 4.379e+03 4.500e+01 9.400e+02]\n"
     ]
    }
   ],
   "source": [
    "y10 = X[260:284,-1]\n",
    "X10 = X[260:284,:5]\n",
    "print(X10.shape)\n",
    "print(y10.shape)\n",
    "print(X10)\n",
    "print(y10)"
   ]
  },
  {
   "cell_type": "code",
   "execution_count": null,
   "metadata": {},
   "outputs": [],
   "source": []
  }
 ],
 "metadata": {
  "kernelspec": {
   "display_name": "Python 3",
   "language": "python",
   "name": "python3"
  },
  "language_info": {
   "codemirror_mode": {
    "name": "ipython",
    "version": 3
   },
   "file_extension": ".py",
   "mimetype": "text/x-python",
   "name": "python",
   "nbconvert_exporter": "python",
   "pygments_lexer": "ipython3",
   "version": "3.7.7"
  }
 },
 "nbformat": 4,
 "nbformat_minor": 4
}
