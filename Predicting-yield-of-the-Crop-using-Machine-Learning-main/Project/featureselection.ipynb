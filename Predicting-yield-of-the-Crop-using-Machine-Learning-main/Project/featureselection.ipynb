{
 "cells": [
  {
   "cell_type": "markdown",
   "metadata": {},
   "source": [
    "# Univariate Selection"
   ]
  },
  {
   "cell_type": "code",
   "execution_count": 55,
   "metadata": {},
   "outputs": [],
   "source": [
    "import pandas as pd\n",
    "import numpy as np\n",
    "from sklearn.feature_selection import chi2\n",
    "from sklearn.feature_selection import SelectKBest"
   ]
  },
  {
   "cell_type": "code",
   "execution_count": 71,
   "metadata": {},
   "outputs": [],
   "source": [
    "data = pd.read_csv('D:/Data Science/Project/pmf.csv')"
   ]
  },
  {
   "cell_type": "code",
   "execution_count": 72,
   "metadata": {},
   "outputs": [
    {
     "data": {
      "text/html": [
       "<div>\n",
       "<style scoped>\n",
       "    .dataframe tbody tr th:only-of-type {\n",
       "        vertical-align: middle;\n",
       "    }\n",
       "\n",
       "    .dataframe tbody tr th {\n",
       "        vertical-align: top;\n",
       "    }\n",
       "\n",
       "    .dataframe thead th {\n",
       "        text-align: right;\n",
       "    }\n",
       "</style>\n",
       "<table border=\"1\" class=\"dataframe\">\n",
       "  <thead>\n",
       "    <tr style=\"text-align: right;\">\n",
       "      <th></th>\n",
       "      <th>AREA</th>\n",
       "      <th>RAINFALL</th>\n",
       "      <th>AVG_TEMPERATURE</th>\n",
       "      <th>HUMIDITY</th>\n",
       "      <th>GROUND_WATERLEVEL</th>\n",
       "      <th>PRODUCTION</th>\n",
       "    </tr>\n",
       "  </thead>\n",
       "  <tbody>\n",
       "    <tr>\n",
       "      <th>0</th>\n",
       "      <td>66576</td>\n",
       "      <td>197.10</td>\n",
       "      <td>28.7</td>\n",
       "      <td>72.0</td>\n",
       "      <td>4.025</td>\n",
       "      <td>166048</td>\n",
       "    </tr>\n",
       "    <tr>\n",
       "      <th>1</th>\n",
       "      <td>80520</td>\n",
       "      <td>166.00</td>\n",
       "      <td>26.4</td>\n",
       "      <td>74.3</td>\n",
       "      <td>5.860</td>\n",
       "      <td>103729</td>\n",
       "    </tr>\n",
       "    <tr>\n",
       "      <th>2</th>\n",
       "      <td>46302</td>\n",
       "      <td>137.04</td>\n",
       "      <td>28.0</td>\n",
       "      <td>73.0</td>\n",
       "      <td>5.670</td>\n",
       "      <td>71087</td>\n",
       "    </tr>\n",
       "    <tr>\n",
       "      <th>3</th>\n",
       "      <td>48689</td>\n",
       "      <td>179.24</td>\n",
       "      <td>29.4</td>\n",
       "      <td>71.0</td>\n",
       "      <td>6.100</td>\n",
       "      <td>106829</td>\n",
       "    </tr>\n",
       "    <tr>\n",
       "      <th>4</th>\n",
       "      <td>100110</td>\n",
       "      <td>107.94</td>\n",
       "      <td>27.9</td>\n",
       "      <td>69.6</td>\n",
       "      <td>8.330</td>\n",
       "      <td>124843</td>\n",
       "    </tr>\n",
       "  </tbody>\n",
       "</table>\n",
       "</div>"
      ],
      "text/plain": [
       "     AREA  RAINFALL  AVG_TEMPERATURE  HUMIDITY  GROUND_WATERLEVEL  PRODUCTION\n",
       "0   66576    197.10             28.7      72.0              4.025      166048\n",
       "1   80520    166.00             26.4      74.3              5.860      103729\n",
       "2   46302    137.04             28.0      73.0              5.670       71087\n",
       "3   48689    179.24             29.4      71.0              6.100      106829\n",
       "4  100110    107.94             27.9      69.6              8.330      124843"
      ]
     },
     "execution_count": 72,
     "metadata": {},
     "output_type": "execute_result"
    }
   ],
   "source": [
    "data.head()"
   ]
  },
  {
   "cell_type": "code",
   "execution_count": 73,
   "metadata": {},
   "outputs": [],
   "source": [
    "y = data.iloc[0:15,-1]\n",
    "X = data.iloc[0:15,0:5]"
   ]
  },
  {
   "cell_type": "code",
   "execution_count": 74,
   "metadata": {},
   "outputs": [],
   "source": [
    "# apply SelectKBest top 10 features\n",
    "best_features = SelectKBest(score_func=chi2, k =5 )"
   ]
  },
  {
   "cell_type": "code",
   "execution_count": 75,
   "metadata": {},
   "outputs": [],
   "source": [
    "fit = best_features.fit(X, y)"
   ]
  },
  {
   "cell_type": "code",
   "execution_count": 76,
   "metadata": {},
   "outputs": [
    {
     "data": {
      "text/plain": [
       "array([4.57837513e+05, 1.42918011e+02, 8.67311880e-01, 1.21608198e+00,\n",
       "       1.54242462e+01])"
      ]
     },
     "execution_count": 76,
     "metadata": {},
     "output_type": "execute_result"
    }
   ],
   "source": [
    "fit.scores_"
   ]
  },
  {
   "cell_type": "code",
   "execution_count": 77,
   "metadata": {},
   "outputs": [],
   "source": [
    "dfscores = pd.DataFrame(fit.scores_)\n",
    "dfcolumns = pd.DataFrame(X.columns)"
   ]
  },
  {
   "cell_type": "code",
   "execution_count": 78,
   "metadata": {},
   "outputs": [
    {
     "ename": "SyntaxError",
     "evalue": "invalid syntax (<ipython-input-78-e8495c0fe0cf>, line 1)",
     "output_type": "error",
     "traceback": [
      "\u001b[1;36m  File \u001b[1;32m\"<ipython-input-78-e8495c0fe0cf>\"\u001b[1;36m, line \u001b[1;32m1\u001b[0m\n\u001b[1;33m    = pd.concat([dfcolumns, dfscores], axis= 1)\u001b[0m\n\u001b[1;37m    ^\u001b[0m\n\u001b[1;31mSyntaxError\u001b[0m\u001b[1;31m:\u001b[0m invalid syntax\n"
     ]
    }
   ],
   "source": [
    "\n",
    "= pd.concat([dfcolumns, dfscores], axis= 1)"
   ]
  },
  {
   "cell_type": "code",
   "execution_count": 79,
   "metadata": {},
   "outputs": [
    {
     "name": "stdout",
     "output_type": "stream",
     "text": [
      "            Features          Score\n",
      "0               AREA  457837.512564\n",
      "1           RAINFALL     142.918011\n",
      "2    AVG_TEMPERATURE       0.867312\n",
      "3           HUMIDITY       1.216082\n",
      "4  GROUND_WATERLEVEL      15.424246\n"
     ]
    }
   ],
   "source": [
    "featureScores.columns = ['Features', 'Score']\n",
    "print(featureScores)"
   ]
  },
  {
   "cell_type": "code",
   "execution_count": 80,
   "metadata": {},
   "outputs": [],
   "source": [
    "ten_features = featureScores.sort_values(by='Score', ascending= False).head(10)['Features'].values"
   ]
  },
  {
   "cell_type": "code",
   "execution_count": 81,
   "metadata": {},
   "outputs": [
    {
     "name": "stdout",
     "output_type": "stream",
     "text": [
      "['AREA' 'RAINFALL' 'GROUND_WATERLEVEL' 'HUMIDITY' 'AVG_TEMPERATURE']\n"
     ]
    }
   ],
   "source": [
    "print(ten_features)"
   ]
  },
  {
   "cell_type": "markdown",
   "metadata": {},
   "source": [
    "# Feature Importance"
   ]
  },
  {
   "cell_type": "code",
   "execution_count": 82,
   "metadata": {},
   "outputs": [],
   "source": [
    "from sklearn.ensemble import RandomForestClassifier\n",
    "import matplotlib.pyplot as plt"
   ]
  },
  {
   "cell_type": "code",
   "execution_count": 83,
   "metadata": {},
   "outputs": [
    {
     "data": {
      "text/plain": [
       "RandomForestClassifier()"
      ]
     },
     "execution_count": 83,
     "metadata": {},
     "output_type": "execute_result"
    }
   ],
   "source": [
    "model = RandomForestClassifier()\n",
    "model.fit(X, y)"
   ]
  },
  {
   "cell_type": "code",
   "execution_count": 84,
   "metadata": {},
   "outputs": [
    {
     "data": {
      "text/plain": [
       "array([0.20788764, 0.20624526, 0.19335012, 0.2078314 , 0.18468558])"
      ]
     },
     "execution_count": 84,
     "metadata": {},
     "output_type": "execute_result"
    }
   ],
   "source": [
    "model.feature_importances_"
   ]
  },
  {
   "cell_type": "code",
   "execution_count": 85,
   "metadata": {},
   "outputs": [],
   "source": [
    "featureImportance =  pd.DataFrame(model.feature_importances_, index=X.columns, columns=['Importance'])"
   ]
  },
  {
   "cell_type": "code",
   "execution_count": 86,
   "metadata": {},
   "outputs": [],
   "source": [
    "featureImportance = featureImportance.sort_values(by=\"Importance\", ascending= False)"
   ]
  },
  {
   "cell_type": "code",
   "execution_count": 87,
   "metadata": {},
   "outputs": [
    {
     "data": {
      "text/html": [
       "<div>\n",
       "<style scoped>\n",
       "    .dataframe tbody tr th:only-of-type {\n",
       "        vertical-align: middle;\n",
       "    }\n",
       "\n",
       "    .dataframe tbody tr th {\n",
       "        vertical-align: top;\n",
       "    }\n",
       "\n",
       "    .dataframe thead th {\n",
       "        text-align: right;\n",
       "    }\n",
       "</style>\n",
       "<table border=\"1\" class=\"dataframe\">\n",
       "  <thead>\n",
       "    <tr style=\"text-align: right;\">\n",
       "      <th></th>\n",
       "      <th>Importance</th>\n",
       "    </tr>\n",
       "  </thead>\n",
       "  <tbody>\n",
       "    <tr>\n",
       "      <th>AREA</th>\n",
       "      <td>0.207888</td>\n",
       "    </tr>\n",
       "    <tr>\n",
       "      <th>HUMIDITY</th>\n",
       "      <td>0.207831</td>\n",
       "    </tr>\n",
       "    <tr>\n",
       "      <th>RAINFALL</th>\n",
       "      <td>0.206245</td>\n",
       "    </tr>\n",
       "    <tr>\n",
       "      <th>AVG_TEMPERATURE</th>\n",
       "      <td>0.193350</td>\n",
       "    </tr>\n",
       "    <tr>\n",
       "      <th>GROUND_WATERLEVEL</th>\n",
       "      <td>0.184686</td>\n",
       "    </tr>\n",
       "  </tbody>\n",
       "</table>\n",
       "</div>"
      ],
      "text/plain": [
       "                   Importance\n",
       "AREA                 0.207888\n",
       "HUMIDITY             0.207831\n",
       "RAINFALL             0.206245\n",
       "AVG_TEMPERATURE      0.193350\n",
       "GROUND_WATERLEVEL    0.184686"
      ]
     },
     "execution_count": 87,
     "metadata": {},
     "output_type": "execute_result"
    }
   ],
   "source": [
    "featureImportance"
   ]
  },
  {
   "cell_type": "code",
   "execution_count": 88,
   "metadata": {},
   "outputs": [
    {
     "data": {
      "image/png": "[encoded data removed]",
      "text/plain": [
       "<Figure size 1440x720 with 1 Axes>"
      ]
     },
     "metadata": {
      "needs_background": "light"
     },
     "output_type": "display_data"
    }
   ],
   "source": [
    "plt.figure(figsize=(20,10))\n",
    "plt.bar(featureImportance.index, featureImportance['Importance'])\n",
    "plt.show()"
   ]
  },
  {
   "cell_type": "code",
   "execution_count": null,
   "metadata": {},
   "outputs": [],
   "source": []
  },
  {
   "cell_type": "markdown",
   "metadata": {},
   "source": [
    "# Correlation Matix"
   ]
  },
  {
   "cell_type": "code",
   "execution_count": 89,
   "metadata": {},
   "outputs": [],
   "source": [
    "import seaborn as sns"
   ]
  },
  {
   "cell_type": "code",
   "execution_count": 90,
   "metadata": {},
   "outputs": [],
   "source": [
    "data_corr = data.corr()"
   ]
  },
  {
   "cell_type": "code",
   "execution_count": 91,
   "metadata": {},
   "outputs": [
    {
     "data": {
      "text/html": [
       "<div>\n",
       "<style scoped>\n",
       "    .dataframe tbody tr th:only-of-type {\n",
       "        vertical-align: middle;\n",
       "    }\n",
       "\n",
       "    .dataframe tbody tr th {\n",
       "        vertical-align: top;\n",
       "    }\n",
       "\n",
       "    .dataframe thead th {\n",
       "        text-align: right;\n",
       "    }\n",
       "</style>\n",
       "<table border=\"1\" class=\"dataframe\">\n",
       "  <thead>\n",
       "    <tr style=\"text-align: right;\">\n",
       "      <th></th>\n",
       "      <th>AREA</th>\n",
       "      <th>RAINFALL</th>\n",
       "      <th>AVG_TEMPERATURE</th>\n",
       "      <th>HUMIDITY</th>\n",
       "      <th>GROUND_WATERLEVEL</th>\n",
       "      <th>PRODUCTION</th>\n",
       "    </tr>\n",
       "  </thead>\n",
       "  <tbody>\n",
       "    <tr>\n",
       "      <th>AREA</th>\n",
       "      <td>1.000000</td>\n",
       "      <td>0.190990</td>\n",
       "      <td>0.147645</td>\n",
       "      <td>0.170493</td>\n",
       "      <td>-0.143155</td>\n",
       "      <td>0.953746</td>\n",
       "    </tr>\n",
       "    <tr>\n",
       "      <th>RAINFALL</th>\n",
       "      <td>0.190990</td>\n",
       "      <td>1.000000</td>\n",
       "      <td>0.828912</td>\n",
       "      <td>0.875114</td>\n",
       "      <td>-0.153803</td>\n",
       "      <td>0.132751</td>\n",
       "    </tr>\n",
       "    <tr>\n",
       "      <th>AVG_TEMPERATURE</th>\n",
       "      <td>0.147645</td>\n",
       "      <td>0.828912</td>\n",
       "      <td>1.000000</td>\n",
       "      <td>0.723408</td>\n",
       "      <td>-0.146155</td>\n",
       "      <td>0.082748</td>\n",
       "    </tr>\n",
       "    <tr>\n",
       "      <th>HUMIDITY</th>\n",
       "      <td>0.170493</td>\n",
       "      <td>0.875114</td>\n",
       "      <td>0.723408</td>\n",
       "      <td>1.000000</td>\n",
       "      <td>-0.093422</td>\n",
       "      <td>0.096442</td>\n",
       "    </tr>\n",
       "    <tr>\n",
       "      <th>GROUND_WATERLEVEL</th>\n",
       "      <td>-0.143155</td>\n",
       "      <td>-0.153803</td>\n",
       "      <td>-0.146155</td>\n",
       "      <td>-0.093422</td>\n",
       "      <td>1.000000</td>\n",
       "      <td>-0.169040</td>\n",
       "    </tr>\n",
       "    <tr>\n",
       "      <th>PRODUCTION</th>\n",
       "      <td>0.953746</td>\n",
       "      <td>0.132751</td>\n",
       "      <td>0.082748</td>\n",
       "      <td>0.096442</td>\n",
       "      <td>-0.169040</td>\n",
       "      <td>1.000000</td>\n",
       "    </tr>\n",
       "  </tbody>\n",
       "</table>\n",
       "</div>"
      ],
      "text/plain": [
       "                       AREA  RAINFALL  AVG_TEMPERATURE  HUMIDITY  \\\n",
       "AREA               1.000000  0.190990         0.147645  0.170493   \n",
       "RAINFALL           0.190990  1.000000         0.828912  0.875114   \n",
       "AVG_TEMPERATURE    0.147645  0.828912         1.000000  0.723408   \n",
       "HUMIDITY           0.170493  0.875114         0.723408  1.000000   \n",
       "GROUND_WATERLEVEL -0.143155 -0.153803        -0.146155 -0.093422   \n",
       "PRODUCTION         0.953746  0.132751         0.082748  0.096442   \n",
       "\n",
       "                   GROUND_WATERLEVEL  PRODUCTION  \n",
       "AREA                       -0.143155    0.953746  \n",
       "RAINFALL                   -0.153803    0.132751  \n",
       "AVG_TEMPERATURE            -0.146155    0.082748  \n",
       "HUMIDITY                   -0.093422    0.096442  \n",
       "GROUND_WATERLEVEL           1.000000   -0.169040  \n",
       "PRODUCTION                 -0.169040    1.000000  "
      ]
     },
     "execution_count": 91,
     "metadata": {},
     "output_type": "execute_result"
    }
   ],
   "source": [
    "data_corr"
   ]
  },
  {
   "cell_type": "code",
   "execution_count": 92,
   "metadata": {},
   "outputs": [
    {
     "data": {
      "image/png": "[encoded data removed]",
      "text/plain": [
       "<Figure size 1440x1440 with 2 Axes>"
      ]
     },
     "metadata": {
      "needs_background": "light"
     },
     "output_type": "display_data"
    }
   ],
   "source": [
    "plt.figure(figsize=(20,20))\n",
    "sns.heatmap(data_corr, annot=True)\n",
    "plt.show()"
   ]
  },
  {
   "cell_type": "code",
   "execution_count": null,
   "metadata": {},
   "outputs": [],
   "source": []
  },
  {
   "cell_type": "code",
   "execution_count": null,
   "metadata": {},
   "outputs": [],
   "source": []
  },
  {
   "cell_type": "code",
   "execution_count": null,
   "metadata": {},
   "outputs": [],
   "source": []
  },
  {
   "cell_type": "code",
   "execution_count": null,
   "metadata": {},
   "outputs": [],
   "source": []
  },
  {
   "cell_type": "code",
   "execution_count": null,
   "metadata": {},
   "outputs": [],
   "source": []
  },
  {
   "cell_type": "code",
   "execution_count": null,
   "metadata": {},
   "outputs": [],
   "source": []
  }
 ],
 "metadata": {
  "kernelspec": {
   "display_name": "Python 3",
   "language": "python",
   "name": "python3"
  },
  "language_info": {
   "codemirror_mode": {
    "name": "ipython",
    "version": 3
   },
   "file_extension": ".py",
   "mimetype": "text/x-python",
   "name": "python",
   "nbconvert_exporter": "python",
   "pygments_lexer": "ipython3",
   "version": "3.7.7"
  }
 },
 "nbformat": 4,
 "nbformat_minor": 2
}
